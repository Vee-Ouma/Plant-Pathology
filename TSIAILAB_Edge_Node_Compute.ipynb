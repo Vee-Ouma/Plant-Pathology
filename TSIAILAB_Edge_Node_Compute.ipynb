{
 "cells": [
  {
   "cell_type": "markdown",
   "metadata": {},
   "source": [
    "# Author: MD Fakrul Islam, fakrul.islam@tsi.com.bd"
   ]
  },
  {
   "cell_type": "code",
   "execution_count": null,
   "metadata": {},
   "outputs": [],
   "source": [
    "!/opt/intel/openvino/bin/setupvars.sh"
   ]
  },
  {
   "cell_type": "markdown",
   "metadata": {},
   "source": [
    "# Load all necessery libraries and Logger"
   ]
  },
  {
   "cell_type": "code",
   "execution_count": null,
   "metadata": {},
   "outputs": [],
   "source": [
    "from IPython.display import HTML\n",
    "import matplotlib.pyplot as plt\n",
    "import os\n",
    "import time\n",
    "import sys\n",
    "import warnings\n",
    "from pathlib import Path\n",
    "sys.path.insert(0, str(Path().resolve().parent.parent))\n",
    "\n",
    "\n",
    "warnings.filterwarnings('ignore',category=FutureWarning)\n",
    "print('Done')"
   ]
  },
  {
   "cell_type": "code",
   "execution_count": null,
   "metadata": {},
   "outputs": [],
   "source": [
    "try:\n",
    "    from easydict import EasyDict\n",
    "    print(\"EasyDict installed\")\n",
    "except:\n",
    "    !pip3 install --user easydict\n",
    "    print(\"To import easydict, please restart the kernel\")"
   ]
  },
  {
   "cell_type": "code",
   "execution_count": null,
   "metadata": {},
   "outputs": [],
   "source": [
    "from __future__ import print_function\n",
    "import sys\n",
    "import os\n",
    "from argparse import ArgumentParser\n",
    "import cv2\n",
    "import numpy as np\n",
    "import logging as log\n",
    "from time import time\n",
    "from openvino.inference_engine import IENetwork, IECore\n",
    "import os.path as ops\n",
    "from easydict import EasyDict\n",
    "\n",
    "print('All Libraries Imported')"
   ]
  },
  {
   "cell_type": "markdown",
   "metadata": {},
   "source": [
    "# Optimization in dev cloud edge-Through jupyter notebook\n",
    "# Optimization of Tomato TensorFlow Model"
   ]
  },
  {
   "cell_type": "code",
   "execution_count": null,
   "metadata": {},
   "outputs": [],
   "source": [
    "!/opt/intel/openvino/deployment_tools/model_optimizer/mo_tf.py \\\n",
    "--input_model /home/u37452/Model_32/m_tomato_tensorflowmodel.pb \\\n",
    "--data_type FP32 \\\n",
    "--input_shape [1,32,32,3] \\\n",
    "--output_dir /home/u37452/Model_32/EdgeComputation"
   ]
  },
  {
   "cell_type": "markdown",
   "metadata": {},
   "source": [
    "# Optimization in dev cloud edge-Through jupyter notebook\n",
    "# Optimization of maize TensorFlow Model"
   ]
  },
  {
   "cell_type": "code",
   "execution_count": null,
   "metadata": {},
   "outputs": [],
   "source": [
    "!/opt/intel/openvino/deployment_tools/model_optimizer/mo_tf.py \\\n",
    "--input_model /home/u37452/Model_32/m_maize_tensorflowmodel.pb \\\n",
    "--data_type FP32 \\\n",
    "--input_shape [1,32,32,3] \\\n",
    "--output_dir /home/u37452/Model_32/EdgeComputation"
   ]
  },
  {
   "cell_type": "markdown",
   "metadata": {},
   "source": [
    "# Optimization in dev cloud edge-Through jupyter notebook\n",
    "# Optimization of potato TensorFlow Model"
   ]
  },
  {
   "cell_type": "code",
   "execution_count": null,
   "metadata": {},
   "outputs": [],
   "source": [
    "!/opt/intel/openvino/deployment_tools/model_optimizer/mo_tf.py \\\n",
    "--input_model /home/u37452/Model_32/m_potato_tensorflowmodel.pb \\\n",
    "--data_type FP32 \\\n",
    "--input_shape [1,32,32,3] \\\n",
    "--output_dir /home/u37452/Model_32/EdgeComputation"
   ]
  },
  {
   "cell_type": "code",
   "execution_count": null,
   "metadata": {},
   "outputs": [],
   "source": [
    "%%writefile tomato_job.sh\n",
    "\n",
    "cd /home/u37452/Model_32/EdgeComputation\n",
    "python3 tsiai_devcloud_inference.py  -m m_tomato_tensorflowmodel.xml -i TLB.JPG                                                                                                                                                                                                                                                                  "
   ]
  },
  {
   "cell_type": "code",
   "execution_count": null,
   "metadata": {},
   "outputs": [],
   "source": [
    "%%writefile potato_job.sh\n",
    "\n",
    "cd /home/u37452/Model_32/EdgeComputation\n",
    "python3 tsiai_devcloud_inference.py  -m m_potato_tensorflowmodel.xml -i PHL.JPG                                                                                                                                                                                                                                                                  "
   ]
  },
  {
   "cell_type": "code",
   "execution_count": null,
   "metadata": {},
   "outputs": [],
   "source": [
    "%%writefile maize_job.sh\n",
    "\n",
    "cd /home/u37452/Model_32/EdgeComputation\n",
    "python3 tsiai_devcloud_inference.py  -m m_maize_tensorflowmodel.xml -i MHL.JPG                                                                                                                                                                                                                                                                  "
   ]
  },
  {
   "cell_type": "markdown",
   "metadata": {},
   "source": [
    "# Reference implementation -edge compute\n",
    "\n",
    "# https://www.ieiworld.com/en/product/model.php?II=525\n",
    "\n",
    "# TANK-870-Q170"
   ]
  },
  {
   "cell_type": "code",
   "execution_count": 7,
   "metadata": {},
   "outputs": [
    {
     "name": "stdout",
     "output_type": "stream",
     "text": [
      "Submitting a job to an edge compute node with an Intel Core CPU...\n",
      "3918.v-qsvr-1.devcloud-edge\n"
     ]
    }
   ],
   "source": [
    "print(\"Submitting a job to an edge compute node with an Intel Core CPU...\")\n",
    "#Submit job to the queue\n",
    "job_id = !qsub tomato_job.sh -l nodes=1:idc001skl:tank-870:i5-6500te -N obj_i5_tomato\n",
    "print(job_id[0]) \n",
    "#Progress indicators\n",
    "if not job_id:\n",
    "    print(\"Error in job submission.\")"
   ]
  },
  {
   "cell_type": "code",
   "execution_count": 8,
   "metadata": {},
   "outputs": [
    {
     "name": "stdout",
     "output_type": "stream",
     "text": [
      "Submitting a job to an edge compute node with an Intel Core CPU...\n",
      "3919.v-qsvr-1.devcloud-edge\n"
     ]
    }
   ],
   "source": [
    "print(\"Submitting a job to an edge compute node with an Intel Core CPU...\")\n",
    "#Submit job to the queue\n",
    "job_id = !qsub potato_job.sh -l nodes=2:idc001skl:tank-870:i5-6500te -N obj_i5_potato\n",
    "print(job_id[0]) \n",
    "#Progress indicators\n",
    "if not job_id:\n",
    "    print(\"Error in job submission.\")"
   ]
  },
  {
   "cell_type": "code",
   "execution_count": 9,
   "metadata": {},
   "outputs": [
    {
     "name": "stdout",
     "output_type": "stream",
     "text": [
      "Submitting a job to an edge compute node with an Intel Core CPU...\n",
      "3920.v-qsvr-1.devcloud-edge\n"
     ]
    }
   ],
   "source": [
    "print(\"Submitting a job to an edge compute node with an Intel Core CPU...\")\n",
    "#Submit job to the queue\n",
    "job_id = !qsub maize_job.sh -l nodes=3:idc001skl:tank-870:i5-6500te -N obj_i5_maize\n",
    "print(job_id[0]) \n",
    "#Progress indicators\n",
    "if not job_id:\n",
    "    print(\"Error in job submission.\")"
   ]
  },
  {
   "cell_type": "markdown",
   "metadata": {},
   "source": [
    "# Reference implementation -edge compute\n",
    "\n",
    "# https://www.aaeon.com/en/p/iot-gateway-maker-boards-up-core-plus\n",
    "\n",
    "# Atom™ x7-E3950 Processor SoC"
   ]
  },
  {
   "cell_type": "code",
   "execution_count": 10,
   "metadata": {},
   "outputs": [
    {
     "name": "stdout",
     "output_type": "stream",
     "text": [
      "Submitting a job to an edge compute node Intel Atom x5-E3950 CPU\n",
      "3921.v-qsvr-1.devcloud-edge\n"
     ]
    }
   ],
   "source": [
    "print(\"Submitting a job to an edge compute node Intel Atom x5-E3950 CPU\")\n",
    "#Submit job to the queue\n",
    "job_id = !qsub tomato_job.sh -l nodes=1:e3950 -N obj_det_E3950_tomato\n",
    "print(job_id[0]) \n",
    "#Progress indicators\n",
    "if not job_id:\n",
    "    print(\"Error in job submission.\")"
   ]
  },
  {
   "cell_type": "code",
   "execution_count": 11,
   "metadata": {},
   "outputs": [
    {
     "name": "stdout",
     "output_type": "stream",
     "text": [
      "Submitting a job to an edge compute node Intel Atom x5-E3950 CPU\n",
      "3922.v-qsvr-1.devcloud-edge\n"
     ]
    }
   ],
   "source": [
    "print(\"Submitting a job to an edge compute node Intel Atom x5-E3950 CPU\")\n",
    "#Submit job to the queue\n",
    "job_id = !qsub potato_job.sh -l nodes=2:e3950 -N obj_det_E3950_potato\n",
    "print(job_id[0]) \n",
    "#Progress indicators\n",
    "if not job_id:\n",
    "    print(\"Error in job submission.\")"
   ]
  },
  {
   "cell_type": "code",
   "execution_count": 12,
   "metadata": {},
   "outputs": [
    {
     "name": "stdout",
     "output_type": "stream",
     "text": [
      "Submitting a job to an edge compute node Intel Atom x5-E3950 CPU\n",
      "3923.v-qsvr-1.devcloud-edge\n"
     ]
    }
   ],
   "source": [
    "print(\"Submitting a job to an edge compute node Intel Atom x5-E3950 CPU\")\n",
    "#Submit job to the queue\n",
    "job_id = !qsub maize_job.sh -l nodes=3:e3950 -N obj_det_E3950_maize\n",
    "print(job_id[0]) \n",
    "#Progress indicators\n",
    "if not job_id:\n",
    "    print(\"Error in job submission.\")"
   ]
  }
 ],
 "metadata": {
  "kernelspec": {
   "display_name": "Python 3 (Intel, 2019 update 2)",
   "language": "python",
   "name": "c003-intel_distribution_for_python_3_2019u2"
  },
  "language_info": {
   "codemirror_mode": {
    "name": "ipython",
    "version": 3
   },
   "file_extension": ".py",
   "mimetype": "text/x-python",
   "name": "python",
   "nbconvert_exporter": "python",
   "pygments_lexer": "ipython3",
   "version": "3.6.5"
  }
 },
 "nbformat": 4,
 "nbformat_minor": 2
}
