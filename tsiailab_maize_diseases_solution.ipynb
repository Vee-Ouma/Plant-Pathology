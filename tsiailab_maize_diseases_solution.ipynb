{
 "cells": [
  {
   "cell_type": "markdown",
   "metadata": {
    "colab_type": "text",
    "id": "y-3uwmP8RHHG"
   },
   "source": [
    "# Author: MD Fakrul Islam, fakrul.islam@tsi.com.bd\n",
    "# Import Necessery Library"
   ]
  },
  {
   "cell_type": "code",
   "execution_count": 2,
   "metadata": {
    "colab": {
     "base_uri": "https://localhost:8080/",
     "height": 34
    },
    "colab_type": "code",
    "id": "X1ykpVlFGqJH",
    "outputId": "161affe2-bb71-446e-e806-47982d100b8c"
   },
   "outputs": [
    {
     "name": "stdout",
     "output_type": "stream",
     "text": [
      "Tensorflow version 1.14.0\n"
     ]
    }
   ],
   "source": [
    "import os, sys, math, time\n",
    "import numpy as np\n",
    "from matplotlib import pyplot as plt\n",
    "import tensorflow as tf\n",
    "print(\"Tensorflow version \" + tf.__version__)"
   ]
  },
  {
   "cell_type": "markdown",
   "metadata": {},
   "source": [
    "# SET Image Dimension\n",
    "# Model developed by images of (224,224) dimension is suitable for High Processor and Ram, Mean Validation Accuracy ~ 98%.\n",
    "# Model developed by images of (32,32) Dimension is suitable for intel dev cloude edge platform for optimization using intel distributed openvino toolkit, Mean Validation Accuracy ~ 90%-92%.\n",
    "# Create folder of names 32, 64, 128 and 224 under the Model Folder to create models of similar dimension. Image of 32*32 dimension has been shown in this codebase.\n",
    "# Select right dimension that is suitable for your workstation(PROCESSOR and RAM)"
   ]
  },
  {
   "cell_type": "code",
   "execution_count": 3,
   "metadata": {},
   "outputs": [
    {
     "name": "stdout",
     "output_type": "stream",
     "text": [
      "Image Dimension Loaded\n"
     ]
    }
   ],
   "source": [
    "IMG_HEIGHT = 128\n",
    "IMG_WIDTH = 128\n",
    "IMAGE_SIZE = [IMG_HEIGHT, IMG_WIDTH]\n",
    "print('Image Dimension Loaded')"
   ]
  },
  {
   "cell_type": "markdown",
   "metadata": {
    "colab_type": "text",
    "id": "UCzBApz_ZTft"
   },
   "source": [
    "# Set Training and Validation IMAGE Path\n",
    "# Set Saved Keras Model Path\n",
    "# Set Saved Tensorflow Model Path"
   ]
  },
  {
   "cell_type": "code",
   "execution_count": 4,
   "metadata": {
    "colab": {},
    "colab_type": "code",
    "id": "r-GEllgyZZgz"
   },
   "outputs": [
    {
     "name": "stdout",
     "output_type": "stream",
     "text": [
      "All Path Loaded\n"
     ]
    }
   ],
   "source": [
    "TRAIN_CommonRust_LOCATION_IMAGES='/home/fakrul/Documents/PlantPathology/Maize/train/CommonRust'\n",
    "TRAIN_GrayLeafSpot_LOCATION_IMAGES='/home/fakrul/Documents/PlantPathology/Maize/train/GrayLeafSpot'\n",
    "TRAIN_NorthernLeafBlight_LOCATION_IMAGES='/home/fakrul/Documents/PlantPathology/Maize/train/NorthernLeafBlight'\n",
    "TRAIN_Healthy_LOCATION_IMAGES='/home/fakrul/Documents/PlantPathology/Maize/train/Healthy'\n",
    "\n",
    "VAL_CommonRust_LOCATION_IMAGES='/home/fakrul/Documents/PlantPathology/Maize/val/CommonRust'\n",
    "VAL_GrayLeafSpot_LOCATION_IMAGES='/home/fakrul/Documents/PlantPathology/Maize/val/GrayLeafSpot'\n",
    "VAL_NorthernLeafBlight_LOCATION_IMAGES='/home/fakrul/Documents/PlantPathology/Maize/val/NorthernLeafBlight'\n",
    "VAL_Healthy_LOCATION_IMAGES='/home/fakrul/Documents/PlantPathology/Maize/val/Healthy'\n",
    "\n",
    "#Saved Keras Model Path\n",
    "KERAS_PATH = '/home/fakrul/Documents/PlantPathology/Model/64/keras/maize.h5'\n",
    "\n",
    "#Saved TensorFlow Model Path\n",
    "TensorFlow_PATH='/home/fakrul/Documents/PlantPathology/Model/64/tf'\n",
    "\n",
    "print('All Path Loaded')"
   ]
  },
  {
   "cell_type": "markdown",
   "metadata": {
    "colab_type": "text",
    "id": "Fs9IgO98eWko"
   },
   "source": [
    "# Load all Training and Validation IMAGES path in the memory"
   ]
  },
  {
   "cell_type": "code",
   "execution_count": 6,
   "metadata": {
    "colab": {
     "base_uri": "https://localhost:8080/",
     "height": 153
    },
    "colab_type": "code",
    "id": "f-IVEH-veZoz",
    "outputId": "6b1a09af-7498-4b30-b992-c8dbc3ead82b"
   },
   "outputs": [
    {
     "name": "stdout",
     "output_type": "stream",
     "text": [
      "Total TrainCommonRustFiles: 953\n",
      "Total ValCommonRustFiles: 239\n",
      "Total TrainGrayLeafSpot Files: 953\n",
      "Total ValGrayLeafSpot Files: 239\n",
      "Total TrainNorthernLeafBlight Files: 953\n",
      "Total ValNorthernLeafBlight Files: 239\n",
      "Total TrainHealthyFiles: 953\n",
      "Total ValHealthyFiles: 239\n",
      "All image path loaded\n"
     ]
    }
   ],
   "source": [
    "from os.path import join\n",
    "from glob import glob\n",
    "\n",
    "def getListSize(itel_list):\n",
    "    count = 0\n",
    "    for img_path in itel_list:  \n",
    "        count = count + 1\n",
    "    return count\n",
    "\n",
    "TrainCommonRustFiles = []\n",
    "ValCommonRustFiles = []\n",
    "\n",
    "TrainGrayLeafSpot = []\n",
    "ValGrayLeafSpot = []\n",
    "\n",
    "TrainNorthernLeafBlight = []\n",
    "ValNorthernLeafBlight = []\n",
    "\n",
    "TrainHealthyFiles = []\n",
    "ValHealthyFiles = []\n",
    "\n",
    "for ext in ('*.JPEG', '*.JPG', '*.jpg', 'jpeg'):\n",
    "   TrainCommonRustFiles.extend(glob(join(TRAIN_CommonRust_LOCATION_IMAGES, ext)))\n",
    "   ValCommonRustFiles.extend(glob(join(VAL_CommonRust_LOCATION_IMAGES, ext)))\n",
    "   TrainGrayLeafSpot.extend(glob(join(TRAIN_GrayLeafSpot_LOCATION_IMAGES, ext)))\n",
    "   ValGrayLeafSpot.extend(glob(join(VAL_GrayLeafSpot_LOCATION_IMAGES, ext)))\n",
    "   TrainNorthernLeafBlight.extend(glob(join(TRAIN_NorthernLeafBlight_LOCATION_IMAGES, ext)))\n",
    "   ValNorthernLeafBlight.extend(glob(join(VAL_NorthernLeafBlight_LOCATION_IMAGES, ext)))\n",
    "   TrainHealthyFiles.extend(glob(join(TRAIN_Healthy_LOCATION_IMAGES, ext)))\n",
    "   ValHealthyFiles.extend(glob(join(VAL_Healthy_LOCATION_IMAGES, ext)))\n",
    "\n",
    "print('Total TrainCommonRustFiles:',getListSize(TrainCommonRustFiles))\n",
    "print('Total ValCommonRustFiles:',getListSize(ValCommonRustFiles))\n",
    "print('Total TrainGrayLeafSpot Files:',getListSize(TrainGrayLeafSpot))\n",
    "print('Total ValGrayLeafSpot Files:',getListSize(ValGrayLeafSpot))\n",
    "print('Total TrainNorthernLeafBlight Files:',getListSize(TrainNorthernLeafBlight))\n",
    "print('Total ValNorthernLeafBlight Files:',getListSize(ValNorthernLeafBlight))\n",
    "print('Total TrainHealthyFiles:',getListSize(TrainHealthyFiles))\n",
    "print('Total ValHealthyFiles:',getListSize(ValHealthyFiles))\n",
    "\n",
    "print('All image path loaded')"
   ]
  },
  {
   "cell_type": "markdown",
   "metadata": {
    "colab_type": "text",
    "id": "WGCkazayVIjn"
   },
   "source": [
    "# Features Extraction using Training Dataset(TX,TY)"
   ]
  },
  {
   "cell_type": "code",
   "execution_count": 7,
   "metadata": {
    "colab": {
     "base_uri": "https://localhost:8080/",
     "height": 187
    },
    "colab_type": "code",
    "id": "uISUl8Odasmu",
    "outputId": "03dbe020-3f6a-43e4-b053-f913f09f46fb"
   },
   "outputs": [
    {
     "name": "stderr",
     "output_type": "stream",
     "text": [
      "Using TensorFlow backend.\n"
     ]
    },
    {
     "name": "stdout",
     "output_type": "stream",
     "text": [
      "Tensorflow version 1.14.0\n",
      "/home/fakrul/Documents/PlantPathology/Maize/train/CommonRust\n",
      "Total images :953\n",
      "/home/fakrul/Documents/PlantPathology/Maize/train/GrayLeafSpot\n",
      "Total images :953\n",
      "/home/fakrul/Documents/PlantPathology/Maize/train/NorthernLeafBlight\n",
      "Total images :953\n",
      "/home/fakrul/Documents/PlantPathology/Maize/train/Healthy\n",
      "Total images :953\n"
     ]
    }
   ],
   "source": [
    "from pathlib import Path\n",
    "import numpy as np\n",
    "import joblib\n",
    "from keras.preprocessing import image\n",
    "from keras.applications import vgg16\n",
    "\n",
    "print(\"Tensorflow version \" + tf.__version__)\n",
    "\n",
    "images = []\n",
    "labels = []\n",
    "\n",
    "count = 0\n",
    "print(TRAIN_CommonRust_LOCATION_IMAGES)\n",
    "# Load all maize commonrust images\n",
    "for IMAGE_PATH in TrainCommonRustFiles:\n",
    "    count = count + 1    \n",
    "    img = tf.keras.preprocessing.image.load_img(IMAGE_PATH, target_size=(IMG_HEIGHT, IMG_WIDTH))\n",
    "    image_array = tf.keras.preprocessing.image.img_to_array(img)\n",
    "\n",
    "    # Add the image to the list of images\n",
    "    images.append(image_array)\n",
    "\n",
    "    # For each 'leaf mold' image, the expected value should be 0\n",
    "    labels.append(0)\n",
    "\n",
    "print ('Total images :'+ str(count))\n",
    "\n",
    "print(TRAIN_GrayLeafSpot_LOCATION_IMAGES)\n",
    "# Load all maize_grayleafspot_path images\n",
    "count=0\n",
    "for IMAGE_PATH in TrainGrayLeafSpot:\n",
    "    # Load the image from disk\n",
    "    count = count + 1\n",
    "    img = tf.keras.preprocessing.image.load_img(IMAGE_PATH, target_size=(IMG_HEIGHT, IMG_WIDTH))\n",
    "    image_array = tf.keras.preprocessing.image.img_to_array(img)\n",
    "\n",
    "    # Add the image to the list of images\n",
    "    images.append(image_array)\n",
    "    # For each 'leaf mold' image, the expected value should be 0\n",
    "    labels.append(1)\n",
    "\n",
    "print ('Total images :'+ str(count))\n",
    "\n",
    "count=0\n",
    "print(TRAIN_NorthernLeafBlight_LOCATION_IMAGES)\n",
    "# Load all maize_northernleafblight_path images\n",
    "for IMAGE_PATH in TrainNorthernLeafBlight:\n",
    "    # Load the image from disk\n",
    "    count = count + 1\n",
    "    img = tf.keras.preprocessing.image.load_img(IMAGE_PATH, target_size=(IMG_HEIGHT, IMG_WIDTH))\n",
    "    image_array = tf.keras.preprocessing.image.img_to_array(img)\n",
    "\n",
    "    # Add the image to the list of images\n",
    "    images.append(image_array)\n",
    "    # For each 'leaf mold' image, the expected value should be 0\n",
    "    labels.append(2)\n",
    "\n",
    "print ('Total images :'+ str(count))\n",
    "\n",
    "count = 0\n",
    "print(TRAIN_Healthy_LOCATION_IMAGES)\n",
    "# Load all maize_healthy_path images\n",
    "for IMAGE_PATH in TrainHealthyFiles:\n",
    "    # Load the image from disk\n",
    "    count = count + 1\n",
    "    img = tf.keras.preprocessing.image.load_img(IMAGE_PATH, target_size=(IMG_HEIGHT, IMG_WIDTH))\n",
    "    image_array = tf.keras.preprocessing.image.img_to_array(img)\n",
    "\n",
    "    # Add the image to the list of images\n",
    "    images.append(image_array)\n",
    "    # For each 'leaf mold' image, the expected value should be 0\n",
    "    labels.append(3)\n",
    "\n",
    "print ('Total images :'+ str(count))\n",
    "# Create a single numpy array with all the images we loaded\n",
    "x_train = np.array(images)\n",
    "\n",
    "# Also convert the labels to a numpy array\n",
    "y_train = np.array(labels)\n",
    "\n",
    "# Normalize image data to 0-to-1 range\n",
    "#x_train = vgg16.preprocess_input(x_train)\n",
    "x_train = tf.keras.applications.vgg16.preprocess_input(x_train)"
   ]
  },
  {
   "cell_type": "markdown",
   "metadata": {
    "colab_type": "text",
    "id": "HkutJARHRpb9"
   },
   "source": [
    "# Features Extraction using Validation(VX, VY) Dataset"
   ]
  },
  {
   "cell_type": "code",
   "execution_count": 8,
   "metadata": {
    "colab": {
     "base_uri": "https://localhost:8080/",
     "height": 153
    },
    "colab_type": "code",
    "id": "XZX5xzMQYQi8",
    "outputId": "75d8030c-948a-49dc-eed9-e383d8c17f95"
   },
   "outputs": [
    {
     "name": "stdout",
     "output_type": "stream",
     "text": [
      "/home/fakrul/Documents/PlantPathology/Maize/val/CommonRust\n",
      "Total Files:239\n",
      "/home/fakrul/Documents/PlantPathology/Maize/val/GrayLeafSpot\n",
      "Total Files:239\n",
      "/home/fakrul/Documents/PlantPathology/Maize/val/NorthernLeafBlight\n",
      "Total Files:239\n",
      "/home/fakrul/Documents/PlantPathology/Maize/val/Healthy\n",
      "Total Files:239\n"
     ]
    }
   ],
   "source": [
    "vimages = []\n",
    "vlabels = []\n",
    "\n",
    "count = 0\n",
    "print(VAL_CommonRust_LOCATION_IMAGES)\n",
    "# Load all maize commonrust images\n",
    "for IMAGE_PATH in ValCommonRustFiles:\n",
    "    count = count + 1    \n",
    "    img = tf.keras.preprocessing.image.load_img(IMAGE_PATH, target_size=(IMG_HEIGHT, IMG_WIDTH))\n",
    "    image_array = tf.keras.preprocessing.image.img_to_array(img)\n",
    "\n",
    "    # Add the image to the list of images\n",
    "    vimages.append(image_array)\n",
    "\n",
    "    # For each 'leaf mold' image, the expected value should be 0\n",
    "    vlabels.append(0)\n",
    "print('Total Files:'+str(count))\n",
    "\n",
    "count = 0\n",
    "print(VAL_GrayLeafSpot_LOCATION_IMAGES)\n",
    "# Load all maize_grayleafspot_path images\n",
    "for IMAGE_PATH in ValGrayLeafSpot:\n",
    "    # Load the image from disk\n",
    "    count = count + 1\n",
    "    img = tf.keras.preprocessing.image.load_img(IMAGE_PATH, target_size=(IMG_HEIGHT, IMG_WIDTH))\n",
    "    image_array = tf.keras.preprocessing.image.img_to_array(img)\n",
    "\n",
    "    # Add the image to the list of images\n",
    "    vimages.append(image_array)\n",
    "    # For each 'leaf mold' image, the expected value should be 0\n",
    "    vlabels.append(1)\n",
    "print('Total Files:'+str(count))\n",
    "\n",
    "count = 0\n",
    "print(VAL_NorthernLeafBlight_LOCATION_IMAGES)\n",
    "# Load all maize_northernleafblight_path images\n",
    "for IMAGE_PATH in ValNorthernLeafBlight:\n",
    "    # Load the image from disk\n",
    "    count = count + 1\n",
    "    img = tf.keras.preprocessing.image.load_img(IMAGE_PATH, target_size=(IMG_HEIGHT, IMG_WIDTH))\n",
    "    image_array = tf.keras.preprocessing.image.img_to_array(img)\n",
    "\n",
    "    # Add the image to the list of images\n",
    "    vimages.append(image_array)\n",
    "    # For each 'leaf mold' image, the expected value should be 0\n",
    "    vlabels.append(2)\n",
    "print('Total Files:'+str(count))\n",
    "\n",
    "count = 0\n",
    "print(VAL_Healthy_LOCATION_IMAGES)\n",
    "# Load all maize_healthy_path images\n",
    "for IMAGE_PATH in ValHealthyFiles:\n",
    "    # Load the image from disk\n",
    "    count = count + 1\n",
    "    img = tf.keras.preprocessing.image.load_img(IMAGE_PATH, target_size=(IMG_HEIGHT, IMG_WIDTH))\n",
    "    image_array = tf.keras.preprocessing.image.img_to_array(img)\n",
    "\n",
    "    # Add the image to the list of images\n",
    "    vimages.append(image_array)\n",
    "    # For each 'leaf mold' image, the expected value should be 0\n",
    "    vlabels.append(3)\n",
    "print('Total Files:'+str(count))\n",
    "\n",
    "# Create a single numpy array with all the images we loaded\n",
    "xv_train = np.array(vimages)\n",
    "\n",
    "# Also convert the labels to a numpy array\n",
    "yv_train = np.array(vlabels)\n",
    "\n",
    "# Normalize image data to 0-to-1 range\n",
    "#x_train = vgg16.preprocess_input(x_train)\n",
    "xv_train = tf.keras.applications.vgg16.preprocess_input(xv_train)"
   ]
  },
  {
   "cell_type": "markdown",
   "metadata": {
    "colab_type": "text",
    "id": "XKREEEvjT9r3"
   },
   "source": [
    "# Create the Model Based on VGG16"
   ]
  },
  {
   "cell_type": "code",
   "execution_count": 9,
   "metadata": {
    "colab": {
     "base_uri": "https://localhost:8080/",
     "height": 411
    },
    "colab_type": "code",
    "id": "uAcFVvJ7Rrq5",
    "outputId": "8a215b49-d538-4acb-9683-fef210773c14"
   },
   "outputs": [
    {
     "name": "stdout",
     "output_type": "stream",
     "text": [
      "WARNING:tensorflow:From /home/fakrul/intel_deep_learning_project/PlantPathology/lib/python3.6/site-packages/tensorflow/python/ops/init_ops.py:1251: calling VarianceScaling.__init__ (from tensorflow.python.ops.init_ops) with dtype is deprecated and will be removed in a future version.\n",
      "Instructions for updating:\n",
      "Call initializer instance with the dtype argument instead of passing it to the constructor\n",
      "Model: \"sequential\"\n",
      "_________________________________________________________________\n",
      "Layer (type)                 Output Shape              Param #   \n",
      "=================================================================\n",
      "vgg16 (Model)                (None, 4, 4, 512)         14714688  \n",
      "_________________________________________________________________\n",
      "flatten (Flatten)            (None, 8192)              0         \n",
      "_________________________________________________________________\n",
      "dense (Dense)                (None, 512)               4194816   \n",
      "_________________________________________________________________\n",
      "dropout (Dropout)            (None, 512)               0         \n",
      "_________________________________________________________________\n",
      "dense_1 (Dense)              (None, 4)                 2052      \n",
      "=================================================================\n",
      "Total params: 18,911,556\n",
      "Trainable params: 4,196,868\n",
      "Non-trainable params: 14,714,688\n",
      "_________________________________________________________________\n"
     ]
    },
    {
     "data": {
      "text/plain": [
       "(None, 128, 128, 3)"
      ]
     },
     "execution_count": 9,
     "metadata": {},
     "output_type": "execute_result"
    }
   ],
   "source": [
    "# Load a pre-trained neural network to use as a feature extractor\n",
    "\n",
    "pretrained_model = tf.keras.applications.VGG16(weights='imagenet', include_top=False ,input_shape=[*IMAGE_SIZE, 3])\n",
    "pretrained_model.trainable = False\n",
    "\n",
    "\n",
    "model = tf.keras.Sequential([\n",
    "    pretrained_model,\n",
    "    tf.keras.layers.Flatten(),\n",
    "    tf.keras.layers.Dense(512, activation='relu'),\n",
    "    tf.keras.layers.Dropout(0.5),\n",
    "    tf.keras.layers.Dense(4, activation='softmax')\n",
    "])\n",
    "\n",
    "model.compile(\n",
    "    optimizer='adam',\n",
    "    loss = 'sparse_categorical_crossentropy',\n",
    "    metrics=['accuracy']\n",
    ")\n",
    "\n",
    "model.summary()\n",
    "model.input_shape"
   ]
  },
  {
   "cell_type": "markdown",
   "metadata": {
    "colab_type": "text",
    "id": "SFXNczS7UFNe"
   },
   "source": [
    "# Train and Test The Model"
   ]
  },
  {
   "cell_type": "code",
   "execution_count": 10,
   "metadata": {
    "colab": {
     "base_uri": "https://localhost:8080/",
     "height": 391
    },
    "colab_type": "code",
    "id": "hUdtJMk3C6ew",
    "outputId": "798df021-c4e7-4893-bdb2-bf0c910c286d"
   },
   "outputs": [
    {
     "name": "stdout",
     "output_type": "stream",
     "text": [
      "Train on 3812 samples, validate on 956 samples\n",
      "Epoch 1/10\n",
      "3812/3812 [==============================] - 180s 47ms/sample - loss: 3.9757 - acc: 0.8374 - val_loss: 0.4750 - val_acc: 0.9331\n",
      "Epoch 2/10\n",
      "3812/3812 [==============================] - 150s 39ms/sample - loss: 0.3645 - acc: 0.9507 - val_loss: 0.2887 - val_acc: 0.9425\n",
      "Epoch 3/10\n",
      "3812/3812 [==============================] - 152s 40ms/sample - loss: 0.1470 - acc: 0.9709 - val_loss: 0.2328 - val_acc: 0.9582\n",
      "Epoch 4/10\n",
      "3812/3812 [==============================] - 150s 39ms/sample - loss: 0.0677 - acc: 0.9819 - val_loss: 0.2548 - val_acc: 0.9487\n",
      "Epoch 5/10\n",
      "3812/3812 [==============================] - 150s 39ms/sample - loss: 0.0556 - acc: 0.9853 - val_loss: 0.2066 - val_acc: 0.9592\n",
      "Epoch 6/10\n",
      "3812/3812 [==============================] - 149s 39ms/sample - loss: 0.0261 - acc: 0.9921 - val_loss: 0.2132 - val_acc: 0.9550\n",
      "Epoch 7/10\n",
      "3812/3812 [==============================] - 149s 39ms/sample - loss: 0.0433 - acc: 0.9890 - val_loss: 0.2758 - val_acc: 0.9372\n",
      "Epoch 8/10\n",
      "3812/3812 [==============================] - 148s 39ms/sample - loss: 0.0348 - acc: 0.9916 - val_loss: 0.2456 - val_acc: 0.9540\n",
      "Epoch 9/10\n",
      "3812/3812 [==============================] - 147s 39ms/sample - loss: 0.0501 - acc: 0.9892 - val_loss: 0.2031 - val_acc: 0.9571\n",
      "Epoch 10/10\n",
      "3812/3812 [==============================] - 148s 39ms/sample - loss: 0.0233 - acc: 0.9916 - val_loss: 0.2263 - val_acc: 0.9550\n",
      "TRAINING TIME:  1524.5171630382538  sec\n"
     ]
    }
   ],
   "source": [
    "start_time = time.time()\n",
    "history=model.fit(\n",
    "    x_train,\n",
    "    y_train,    \n",
    "    validation_data=(xv_train, yv_train),\n",
    "    epochs=10,\n",
    "    batch_size=128,\n",
    "    shuffle=True\n",
    ")\n",
    "print(\"TRAINING TIME: \", time.time() - start_time, \" sec\")"
   ]
  },
  {
   "cell_type": "markdown",
   "metadata": {
    "colab_type": "text",
    "id": "k0E8ZWPiT4oW"
   },
   "source": [
    "# Evaluate the model"
   ]
  },
  {
   "cell_type": "code",
   "execution_count": 11,
   "metadata": {
    "colab": {
     "base_uri": "https://localhost:8080/",
     "height": 85
    },
    "colab_type": "code",
    "id": "FObNj7qVhXV3",
    "outputId": "9574ab62-c867-49d7-86fd-b07e9e149dc6"
   },
   "outputs": [
    {
     "name": "stdout",
     "output_type": "stream",
     "text": [
      "\n",
      "# Evaluate on test data\n",
      "956/956 [==============================] - 42s 44ms/sample - loss: 0.2263 - acc: 0.9550\n",
      "test loss, test acc: [0.226335040468744, 0.9550209]\n"
     ]
    }
   ],
   "source": [
    "# Evaluate the model on the test data using `evaluate`\n",
    "print('\\n# Evaluate on test data')\n",
    "results = model.evaluate(xv_train, yv_train, batch_size=128)\n",
    "print('test loss, test acc:', results)"
   ]
  },
  {
   "cell_type": "code",
   "execution_count": 12,
   "metadata": {
    "colab": {
     "base_uri": "https://localhost:8080/",
     "height": 34
    },
    "colab_type": "code",
    "id": "TeHCySuIGpYi",
    "outputId": "b84c55cb-57c9-4b60-eca2-90ae859c48f8"
   },
   "outputs": [
    {
     "name": "stdout",
     "output_type": "stream",
     "text": [
      "FINAL ACCURACY MEAN-5(VGG16):  0.9516737\n"
     ]
    }
   ],
   "source": [
    "final_accuracy = history.history[\"val_acc\"][-5:]\n",
    "print(\"FINAL ACCURACY MEAN-5(VGG16): \", np.mean(final_accuracy))"
   ]
  },
  {
   "cell_type": "code",
   "execution_count": 13,
   "metadata": {
    "colab": {
     "base_uri": "https://localhost:8080/",
     "height": 34
    },
    "colab_type": "code",
    "id": "b14oHNqkHFWM",
    "outputId": "d474511a-786e-415f-f2eb-aa78404dccdf"
   },
   "outputs": [
    {
     "name": "stdout",
     "output_type": "stream",
     "text": [
      "dict_keys(['loss', 'acc', 'val_loss', 'val_acc'])\n"
     ]
    }
   ],
   "source": [
    "print(history.history.keys())"
   ]
  },
  {
   "cell_type": "markdown",
   "metadata": {
    "colab_type": "text",
    "id": "PW4UH95RULxe"
   },
   "source": [
    "# Train and Test Accuracy Graph"
   ]
  },
  {
   "cell_type": "code",
   "execution_count": 14,
   "metadata": {
    "colab": {
     "base_uri": "https://localhost:8080/",
     "height": 295
    },
    "colab_type": "code",
    "id": "H6pRH8cWELJ7",
    "outputId": "b6c0dbfd-3c13-440d-8bfb-4d7299370fbf"
   },
   "outputs": [
    {
     "data": {
      "image/png": "[encoded data removed]",
      "text/plain": [
       "<Figure size 432x288 with 1 Axes>"
      ]
     },
     "metadata": {
      "needs_background": "light"
     },
     "output_type": "display_data"
    }
   ],
   "source": [
    "from matplotlib import pyplot as plt\n",
    "plt.plot(history.history['acc'])\n",
    "plt.plot(history.history['val_acc'])\n",
    "plt.title('Maize model accuracy')\n",
    "plt.ylabel('accuracy')\n",
    "plt.xlabel('epoch')\n",
    "plt.legend(['train accuracy', 'validation accuracy'], loc='upper left')\n",
    "plt.show()"
   ]
  },
  {
   "cell_type": "markdown",
   "metadata": {
    "colab_type": "text",
    "id": "VCSPp8o_UR11"
   },
   "source": [
    "# Train and Test Loss Graph"
   ]
  },
  {
   "cell_type": "code",
   "execution_count": 15,
   "metadata": {
    "colab": {
     "base_uri": "https://localhost:8080/",
     "height": 295
    },
    "colab_type": "code",
    "id": "EFCPRqYGEa9T",
    "outputId": "25eee225-6766-4c09-fd45-92edf0cc33b2"
   },
   "outputs": [
    {
     "data": {
      "image/png": "[encoded data removed]",
      "text/plain": [
       "<Figure size 432x288 with 1 Axes>"
      ]
     },
     "metadata": {
      "needs_background": "light"
     },
     "output_type": "display_data"
    }
   ],
   "source": [
    "# summarize history for loss\n",
    "plt.plot(history.history['loss'])\n",
    "plt.title('Maize model loss')\n",
    "plt.ylabel('loss')\n",
    "plt.plot(history.history['val_loss'])\n",
    "plt.xlabel('epoch')\n",
    "plt.legend(['training loss', 'validation loss'], loc='upper left')\n",
    "plt.show()"
   ]
  },
  {
   "cell_type": "markdown",
   "metadata": {
    "colab_type": "text",
    "id": "gpStrY-GUZBu"
   },
   "source": [
    "# Save the KERAS model and check the shape"
   ]
  },
  {
   "cell_type": "code",
   "execution_count": 16,
   "metadata": {
    "colab": {
     "base_uri": "https://localhost:8080/",
     "height": 462
    },
    "colab_type": "code",
    "id": "0DmZ223jNi9o",
    "outputId": "e2e09cf4-8861-476c-d542-94618a9d1276"
   },
   "outputs": [
    {
     "name": "stdout",
     "output_type": "stream",
     "text": [
      "WARNING:tensorflow:From /home/fakrul/intel_deep_learning_project/PlantPathology/lib/python3.6/site-packages/tensorflow/python/ops/init_ops.py:97: calling GlorotUniform.__init__ (from tensorflow.python.ops.init_ops) with dtype is deprecated and will be removed in a future version.\n",
      "Instructions for updating:\n",
      "Call initializer instance with the dtype argument instead of passing it to the constructor\n",
      "WARNING:tensorflow:From /home/fakrul/intel_deep_learning_project/PlantPathology/lib/python3.6/site-packages/tensorflow/python/ops/init_ops.py:97: calling Zeros.__init__ (from tensorflow.python.ops.init_ops) with dtype is deprecated and will be removed in a future version.\n",
      "Instructions for updating:\n",
      "Call initializer instance with the dtype argument instead of passing it to the constructor\n",
      "Model: \"sequential\"\n",
      "_________________________________________________________________\n",
      "Layer (type)                 Output Shape              Param #   \n",
      "=================================================================\n",
      "vgg16 (Model)                (None, 4, 4, 512)         14714688  \n",
      "_________________________________________________________________\n",
      "flatten (Flatten)            (None, 8192)              0         \n",
      "_________________________________________________________________\n",
      "dense (Dense)                (None, 512)               4194816   \n",
      "_________________________________________________________________\n",
      "dropout (Dropout)            (None, 512)               0         \n",
      "_________________________________________________________________\n",
      "dense_1 (Dense)              (None, 4)                 2052      \n",
      "=================================================================\n",
      "Total params: 18,911,556\n",
      "Trainable params: 4,196,868\n",
      "Non-trainable params: 14,714,688\n",
      "_________________________________________________________________\n"
     ]
    },
    {
     "data": {
      "text/plain": [
       "(None, 128, 128, 3)"
      ]
     },
     "execution_count": 16,
     "metadata": {},
     "output_type": "execute_result"
    }
   ],
   "source": [
    "model.save(KERAS_PATH) \n",
    "# Recreate the exact same model, including its weights and the optimizer\n",
    "saved_model = tf.keras.models.load_model(KERAS_PATH)\n",
    "\n",
    "# Show the model architecture\n",
    "saved_model.summary()\n",
    "saved_model.input_shape"
   ]
  },
  {
   "cell_type": "markdown",
   "metadata": {
    "colab_type": "text",
    "id": "o0HjuOM4S9kn"
   },
   "source": [
    "# Saved Keras Model to Tensorflow Model Conversion"
   ]
  },
  {
   "cell_type": "code",
   "execution_count": 17,
   "metadata": {
    "colab": {
     "base_uri": "https://localhost:8080/",
     "height": 173
    },
    "colab_type": "code",
    "id": "-kZJ6gGKqhg6",
    "outputId": "9d4b43dc-d136-4743-b45e-99165efd6dc0"
   },
   "outputs": [
    {
     "name": "stdout",
     "output_type": "stream",
     "text": [
      "WARNING:tensorflow:From <ipython-input-17-d0b5aa618816>:35: convert_variables_to_constants (from tensorflow.python.framework.graph_util_impl) is deprecated and will be removed in a future version.\n",
      "Instructions for updating:\n",
      "Use `tf.compat.v1.graph_util.convert_variables_to_constants`\n",
      "WARNING:tensorflow:From /home/fakrul/intel_deep_learning_project/PlantPathology/lib/python3.6/site-packages/tensorflow/python/framework/graph_util_impl.py:270: extract_sub_graph (from tensorflow.python.framework.graph_util_impl) is deprecated and will be removed in a future version.\n",
      "Instructions for updating:\n",
      "Use `tf.compat.v1.graph_util.extract_sub_graph`\n",
      "INFO:tensorflow:Froze 86 variables.\n",
      "INFO:tensorflow:Converted 86 variables to const ops.\n"
     ]
    }
   ],
   "source": [
    "import tensorflow as tf\n",
    "import tensorflow.keras.backend as K\n",
    "\n",
    "K.set_learning_phase(0)\n",
    "\n",
    "model_name = 's_maize_tensorflowmodel'\n",
    "\n",
    "def freeze_session(session, keep_var_names=None, output_names=None, clear_devices=True):\n",
    "    \"\"\"\n",
    "    Freezes the state of a session into a pruned computation graph.\n",
    "\n",
    "    Creates a new computation graph where variable nodes are replaced by\n",
    "    constants taking their current value in the session. The new graph will be\n",
    "    pruned so subgraphs that are not necessary to compute the requested\n",
    "    outputs are removed.\n",
    "    @param session The TensorFlow session to be frozen.\n",
    "    @param keep_var_names A list of variable names that should not be frozen,\n",
    "                          or None to freeze all the variables in the graph.\n",
    "    @param output_names Names of the relevant graph outputs.\n",
    "    @param clear_devices Remove the device directives from the graph for better portability.\n",
    "    @return The frozen graph definition.\n",
    "    \"\"\"\n",
    "    from tensorflow.python.framework.graph_util import convert_variables_to_constants\n",
    "    graph = session.graph\n",
    "    with graph.as_default():\n",
    "        freeze_var_names = list(set(v.op.name for v in tf.global_variables()).difference(keep_var_names or []))\n",
    "        output_names = output_names or []\n",
    "        output_names += [v.op.name for v in tf.global_variables()]\n",
    "        # Graph -> GraphDef ProtoBuf\n",
    "        input_graph_def = graph.as_graph_def()\n",
    "        if clear_devices:\n",
    "            for node in input_graph_def.node:\n",
    "                node.device = \"\"\n",
    "        frozen_graph = convert_variables_to_constants(session, input_graph_def,\n",
    "                                                      output_names, freeze_var_names)\n",
    "        return frozen_graph\n",
    "\n",
    "\n",
    "\n",
    "\n",
    "frozen_graph = freeze_session(K.get_session(),\n",
    "                              output_names=[out.op.name for out in saved_model.outputs], \n",
    "                              clear_devices=True)\n",
    "\n",
    "tf.train.write_graph(frozen_graph, TensorFlow_PATH, model_name+\".pb\", as_text=False)\n",
    "\n",
    "output_model_name = model_name + \".pb\"\n",
    "output_model_path = TensorFlow_PATH + output_model_name"
   ]
  },
  {
   "cell_type": "markdown",
   "metadata": {
    "colab_type": "text",
    "id": "sJGKBUH1yR9C"
   },
   "source": [
    "# In memory Keras Model to TensorFlow Model Conversion"
   ]
  },
  {
   "cell_type": "code",
   "execution_count": 18,
   "metadata": {
    "colab": {
     "base_uri": "https://localhost:8080/",
     "height": 51
    },
    "colab_type": "code",
    "id": "JOm-NaY0yIjl",
    "outputId": "f32dbe28-d469-4926-97cf-a2c1625cc870"
   },
   "outputs": [
    {
     "name": "stdout",
     "output_type": "stream",
     "text": [
      "INFO:tensorflow:Froze 86 variables.\n",
      "INFO:tensorflow:Converted 86 variables to const ops.\n"
     ]
    }
   ],
   "source": [
    "import tensorflow as tf\n",
    "import tensorflow.keras.backend as K\n",
    "\n",
    "K.set_learning_phase(0)\n",
    "\n",
    "model_name = 'm_maize_tensorflowmodel'\n",
    "\n",
    "def freeze_session(session, keep_var_names=None, output_names=None, clear_devices=True):\n",
    "    \"\"\"\n",
    "    Freezes the state of a session into a pruned computation graph.\n",
    "\n",
    "    Creates a new computation graph where variable nodes are replaced by\n",
    "    constants taking their current value in the session. The new graph will be\n",
    "    pruned so subgraphs that are not necessary to compute the requested\n",
    "    outputs are removed.\n",
    "    @param session The TensorFlow session to be frozen.\n",
    "    @param keep_var_names A list of variable names that should not be frozen,\n",
    "                          or None to freeze all the variables in the graph.\n",
    "    @param output_names Names of the relevant graph outputs.\n",
    "    @param clear_devices Remove the device directives from the graph for better portability.\n",
    "    @return The frozen graph definition.\n",
    "    \"\"\"\n",
    "    from tensorflow.python.framework.graph_util import convert_variables_to_constants\n",
    "    graph = session.graph\n",
    "    with graph.as_default():\n",
    "        freeze_var_names = list(set(v.op.name for v in tf.global_variables()).difference(keep_var_names or []))\n",
    "        output_names = output_names or []\n",
    "        output_names += [v.op.name for v in tf.global_variables()]\n",
    "        # Graph -> GraphDef ProtoBuf\n",
    "        input_graph_def = graph.as_graph_def()\n",
    "        if clear_devices:\n",
    "            for node in input_graph_def.node:\n",
    "                node.device = \"\"\n",
    "        frozen_graph = convert_variables_to_constants(session, input_graph_def,\n",
    "                                                      output_names, freeze_var_names)\n",
    "        return frozen_graph\n",
    "\n",
    "\n",
    "\n",
    "\n",
    "frozen_graph = freeze_session(K.get_session(),\n",
    "                              output_names=[out.op.name for out in model.outputs], \n",
    "                              clear_devices=True)\n",
    "\n",
    "tf.train.write_graph(frozen_graph, TensorFlow_PATH, model_name+\".pb\", as_text=False)\n",
    "\n",
    "output_model_name = model_name + \".pb\"\n",
    "output_model_path = TensorFlow_PATH + output_model_name"
   ]
  },
  {
   "cell_type": "code",
   "execution_count": null,
   "metadata": {},
   "outputs": [],
   "source": []
  }
 ],
 "metadata": {
  "accelerator": "GPU",
  "colab": {
   "collapsed_sections": [],
   "machine_shape": "hm",
   "name": "tsiailab_maize_diseases_solution.ipynb",
   "provenance": []
  },
  "kernelspec": {
   "display_name": "Python 3",
   "language": "python",
   "name": "python3"
  },
  "language_info": {
   "codemirror_mode": {
    "name": "ipython",
    "version": 3
   },
   "file_extension": ".py",
   "mimetype": "text/x-python",
   "name": "python",
   "nbconvert_exporter": "python",
   "pygments_lexer": "ipython3",
   "version": "3.6.9"
  }
 },
 "nbformat": 4,
 "nbformat_minor": 1
}
