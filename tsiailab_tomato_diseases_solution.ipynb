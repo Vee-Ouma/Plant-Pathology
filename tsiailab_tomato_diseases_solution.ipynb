{
 "cells": [
  {
   "cell_type": "markdown",
   "metadata": {
    "colab_type": "text",
    "id": "y-3uwmP8RHHG"
   },
   "source": [
    "# Author: MD Fakrul Islam, fakrul.islam@tsi.com.bd\n",
    "# Import Necessery Library"
   ]
  },
  {
   "cell_type": "code",
   "execution_count": 6,
   "metadata": {
    "colab": {
     "base_uri": "https://localhost:8080/",
     "height": 34
    },
    "colab_type": "code",
    "id": "X1ykpVlFGqJH",
    "outputId": "44ba238c-265f-4875-d387-87e5998de0a4"
   },
   "outputs": [
    {
     "name": "stdout",
     "output_type": "stream",
     "text": [
      "Tensorflow version 1.14.0\n"
     ]
    }
   ],
   "source": [
    "import os, sys, math, time\n",
    "import numpy as np\n",
    "from matplotlib import pyplot as plt\n",
    "import tensorflow as tf\n",
    "print(\"Tensorflow version \" + tf.__version__)"
   ]
  },
  {
   "cell_type": "markdown",
   "metadata": {},
   "source": [
    "# SET Image Dimension\n",
    "# Model developed by images of (224,224) dimension is suitable for High Processor and Ram, Mean Validation Accuracy ~ 98%.\n",
    "# Model developed by images of (32,32) Dimension is suitable for intel dev cloude edge platform for optimization using intel distributed openvino toolkit, Mean Validation Accuracy ~ 90%-92%.\n",
    "# Create folder of names 32, 64, 128 and 224 under the Model Folder to create models of similar dimension. Image of 32*32 dimension has been shown in this codebase.\n",
    "# Select right dimension that is suitable for your workstation(PROCESSOR and RAM)"
   ]
  },
  {
   "cell_type": "code",
   "execution_count": 7,
   "metadata": {},
   "outputs": [
    {
     "name": "stdout",
     "output_type": "stream",
     "text": [
      "Image Dimension Loaded\n"
     ]
    }
   ],
   "source": [
    "IMG_HEIGHT = 64\n",
    "IMG_WIDTH = 64\n",
    "IMAGE_SIZE = [IMG_HEIGHT, IMG_WIDTH]\n",
    "print('Image Dimension Loaded')"
   ]
  },
  {
   "cell_type": "markdown",
   "metadata": {
    "colab_type": "text",
    "id": "KzS_0XOeHose"
   },
   "source": [
    "# Set Training and Validation IMAGE Path\n",
    "# Set Saved Keras Model Path\n",
    "# Set Saved Tensorflow Model Path"
   ]
  },
  {
   "cell_type": "code",
   "execution_count": 8,
   "metadata": {
    "colab": {},
    "colab_type": "code",
    "id": "ZeHgpdc6Hwqf"
   },
   "outputs": [
    {
     "name": "stdout",
     "output_type": "stream",
     "text": [
      "All Path Loaded\n"
     ]
    }
   ],
   "source": [
    "#Training Images\n",
    "TRAIN_EarlyBlight_LOCATION_IMAGES='/home/fakrul/Documents/PlantPathology/Tomato/train/EarlyBlight'\n",
    "TRAIN_LateBlight_LOCATION_IMAGES='/home/fakrul/Documents/PlantPathology/Tomato/train/LateBlight'\n",
    "TRAIN_LeafCurl_LOCATION_IMAGES='/home/fakrul/Documents/PlantPathology/Tomato/train/LeafCurl'\n",
    "TRAIN_LeafMold_LOCATION_IMAGES='/home/fakrul/Documents/PlantPathology/Tomato/train/LeafMold'\n",
    "TRAIN_Healthy_LOCATION_IMAGES='/home/fakrul/Documents/PlantPathology/Tomato/train/Healthy'\n",
    "\n",
    "#Validating Images\n",
    "VALIDATE_EarlyBlight_LOCATION_IMAGES='/home/fakrul/Documents/PlantPathology/Tomato/val/EarlyBlight'\n",
    "VALIDATE_LateBlight_LOCATION_IMAGES='/home/fakrul/Documents/PlantPathology/Tomato/val/LateBlight'\n",
    "VALIDATE_LeafCurl_LOCATION_IMAGES='/home/fakrul/Documents/PlantPathology/Tomato/val/LeafCurl'\n",
    "VALIDATE_LeafMold_LOCATION_IMAGES='/home/fakrul/Documents/PlantPathology/Tomato/val/LeafMold'\n",
    "VALIDATE_Healthy_LOCATION_IMAGES='/home/fakrul/Documents/PlantPathology/Tomato/val/Healthy'\n",
    "\n",
    "#Saved Keras Model Path\n",
    "KERAS_PATH = '/home/fakrul/Documents/PlantPathology/Model/64/keras/tomato.h5'\n",
    "\n",
    "#Saved TensorFlow Model Path\n",
    "TensorFlow_PATH='/home/fakrul/Documents/PlantPathology/Model/64/tf'\n",
    "\n",
    "print('All Path Loaded')"
   ]
  },
  {
   "cell_type": "markdown",
   "metadata": {
    "colab_type": "text",
    "id": "8hJrHiwlLf-T"
   },
   "source": [
    "# Load all Training and Validation IMAGES path in the memory"
   ]
  },
  {
   "cell_type": "code",
   "execution_count": 9,
   "metadata": {
    "colab": {
     "base_uri": "https://localhost:8080/",
     "height": 187
    },
    "colab_type": "code",
    "id": "objNieaLLi6D",
    "outputId": "c9ed2a7e-6abc-46e3-face-326bdeee0538"
   },
   "outputs": [
    {
     "name": "stdout",
     "output_type": "stream",
     "text": [
      "Total Train EarlyBlight Files: 4285\n",
      "Total Validate EarlyBlight Files: 1072\n",
      "Total Train LateBlight Files: 4284\n",
      "Total Validate LateBlight Files: 1072\n",
      "Total Train Healthy Files: 4285\n",
      "Total Validate Healthy Files: 1072\n",
      "Total Leaf Curl Files: 4285\n",
      "Total Validate Leaf Curl Files: 1072\n",
      "Total Leaf Mold Files: 4285\n",
      "Total Validate Leaf Mold Files: 1072\n",
      "All image path loaded\n"
     ]
    }
   ],
   "source": [
    "from os.path import join\n",
    "from glob import glob\n",
    "\n",
    "TrainEarlyBlightFiles = []\n",
    "ValEarlyBlightFiles = []\n",
    "\n",
    "TrainLateBlightFiles = []\n",
    "ValLateBlightFiles = []\n",
    "\n",
    "TrainLeafCurlFiles = []\n",
    "ValLeafCurlFiles = []\n",
    "\n",
    "TrainLeafMoldFiles = []\n",
    "ValLeafMoldFiles = []\n",
    "\n",
    "TrainHealthyFiles = []\n",
    "ValHealthyFiles = []\n",
    "\n",
    "def getListSize(itel_list):\n",
    "    count = 0\n",
    "    for img_path in itel_list:  \n",
    "        count = count + 1\n",
    "    return count\n",
    "\n",
    "for ext in ('*.JPEG', '*.JPG', '*.jpg', 'jpeg'):\n",
    "   TrainEarlyBlightFiles.extend(glob(join(TRAIN_EarlyBlight_LOCATION_IMAGES, ext)))\n",
    "   ValEarlyBlightFiles.extend(glob(join(VALIDATE_EarlyBlight_LOCATION_IMAGES, ext)))\n",
    "   TrainLateBlightFiles.extend(glob(join(TRAIN_LateBlight_LOCATION_IMAGES, ext)))\n",
    "   ValLateBlightFiles.extend(glob(join(VALIDATE_LateBlight_LOCATION_IMAGES, ext)))\n",
    "   TrainHealthyFiles.extend(glob(join(TRAIN_Healthy_LOCATION_IMAGES, ext)))\n",
    "   ValHealthyFiles.extend(glob(join(VALIDATE_Healthy_LOCATION_IMAGES, ext)))\n",
    "   TrainLeafCurlFiles.extend(glob(join(TRAIN_LeafCurl_LOCATION_IMAGES, ext)))\n",
    "   ValLeafCurlFiles.extend(glob(join(VALIDATE_LeafCurl_LOCATION_IMAGES, ext)))\n",
    "   TrainLeafMoldFiles.extend(glob(join(TRAIN_LeafMold_LOCATION_IMAGES, ext)))\n",
    "   ValLeafMoldFiles.extend(glob(join(VALIDATE_LeafMold_LOCATION_IMAGES, ext)))\n",
    "\n",
    "print('Total Train EarlyBlight Files:',getListSize(TrainEarlyBlightFiles))\n",
    "print('Total Validate EarlyBlight Files:',getListSize(ValEarlyBlightFiles))\n",
    "print('Total Train LateBlight Files:',getListSize(TrainLateBlightFiles))\n",
    "print('Total Validate LateBlight Files:',getListSize(ValLateBlightFiles))\n",
    "print('Total Train Healthy Files:',getListSize(TrainHealthyFiles))\n",
    "print('Total Validate Healthy Files:',getListSize(ValHealthyFiles))\n",
    "print('Total Leaf Curl Files:',getListSize(TrainLeafCurlFiles))\n",
    "print('Total Validate Leaf Curl Files:',getListSize(ValLeafCurlFiles))\n",
    "print('Total Leaf Mold Files:',getListSize(TrainLeafMoldFiles))\n",
    "print('Total Validate Leaf Mold Files:',getListSize(ValLeafMoldFiles))\n",
    "\n",
    "print('All image path loaded')"
   ]
  },
  {
   "cell_type": "markdown",
   "metadata": {
    "colab_type": "text",
    "id": "WGCkazayVIjn"
   },
   "source": [
    "# Features Extraction using Training Dataset(TX,TY)"
   ]
  },
  {
   "cell_type": "code",
   "execution_count": 10,
   "metadata": {
    "colab": {
     "base_uri": "https://localhost:8080/",
     "height": 221
    },
    "colab_type": "code",
    "id": "uISUl8Odasmu",
    "outputId": "63671846-bb4d-48b7-ef2f-54c09089cb5e"
   },
   "outputs": [
    {
     "name": "stderr",
     "output_type": "stream",
     "text": [
      "Using TensorFlow backend.\n"
     ]
    },
    {
     "name": "stdout",
     "output_type": "stream",
     "text": [
      "Tensorflow version 1.14.0\n",
      "/home/fakrul/Documents/PlantPathology/Tomato/train/EarlyBlight\n",
      "Total Images :4285\n",
      "/home/fakrul/Documents/PlantPathology/Tomato/train/LateBlight\n",
      "Total Images :4284\n",
      "/home/fakrul/Documents/PlantPathology/Tomato/train/LeafCurl\n",
      "Total Images :4285\n",
      "/home/fakrul/Documents/PlantPathology/Tomato/train/LeafMold\n",
      "Total Images :4285\n",
      "/home/fakrul/Documents/PlantPathology/Tomato/train/Healthy\n",
      "Total Images :4285\n"
     ]
    }
   ],
   "source": [
    "from pathlib import Path\n",
    "import numpy as np\n",
    "import joblib\n",
    "from keras.preprocessing import image\n",
    "from keras.applications import vgg16\n",
    "\n",
    "print(\"Tensorflow version \" + tf.__version__)\n",
    "\n",
    "images = []\n",
    "labels = []\n",
    "\n",
    "count=0\n",
    "print(TRAIN_EarlyBlight_LOCATION_IMAGES)\n",
    "# Load all tomato earlyblight images\n",
    "for IMAGE_PATH in TrainEarlyBlightFiles:\n",
    "    count = count + 1   \n",
    "    img = tf.keras.preprocessing.image.load_img(IMAGE_PATH, target_size=(IMG_HEIGHT, IMG_WIDTH))\n",
    "    image_array = tf.keras.preprocessing.image.img_to_array(img)\n",
    "\n",
    "    # Add the image to the list of images\n",
    "    images.append(image_array)\n",
    "\n",
    "    # For each 'leaf mold' image, the expected value should be 0\n",
    "    labels.append(0)\n",
    "print('Total Images :'+ str(count))\n",
    "\n",
    "count=0\n",
    "print(TRAIN_LateBlight_LOCATION_IMAGES)\n",
    "# Load all tomato lateblight images\n",
    "for IMAGE_PATH in TrainLateBlightFiles:\n",
    "    # Load the image from disk\n",
    "    count = count + 1\n",
    "    img = tf.keras.preprocessing.image.load_img(IMAGE_PATH, target_size=(IMG_HEIGHT, IMG_WIDTH))\n",
    "    image_array = tf.keras.preprocessing.image.img_to_array(img)\n",
    "\n",
    "    # Add the image to the list of images\n",
    "    images.append(image_array)\n",
    "    # For each 'leaf mold' image, the expected value should be 0\n",
    "    labels.append(1)\n",
    "print('Total Images :'+ str(count))\n",
    "\n",
    "count=0\n",
    "print(TRAIN_LeafCurl_LOCATION_IMAGES)\n",
    "# Load all tomato leafcurl images\n",
    "for IMAGE_PATH in TrainLeafCurlFiles:\n",
    "    # Load the image from disk\n",
    "    count = count + 1\n",
    "    img = tf.keras.preprocessing.image.load_img(IMAGE_PATH, target_size=(IMG_HEIGHT, IMG_WIDTH))\n",
    "    image_array = tf.keras.preprocessing.image.img_to_array(img)\n",
    "\n",
    "    # Add the image to the list of images\n",
    "    images.append(image_array)\n",
    "    # For each 'leaf mold' image, the expected value should be 0\n",
    "    labels.append(2)\n",
    "print('Total Images :'+ str(count))\n",
    "\n",
    "count=0\n",
    "print(TRAIN_LeafMold_LOCATION_IMAGES)\n",
    "# Load all tomato leafmold images\n",
    "for IMAGE_PATH in TrainLeafMoldFiles:\n",
    "    # Load the image from disk\n",
    "    count = count + 1\n",
    "    img = tf.keras.preprocessing.image.load_img(IMAGE_PATH, target_size=(IMG_HEIGHT, IMG_WIDTH))\n",
    "    image_array = tf.keras.preprocessing.image.img_to_array(img)\n",
    "\n",
    "    # Add the image to the list of images\n",
    "    images.append(image_array)\n",
    "    # For each 'leaf mold' image, the expected value should be 0\n",
    "    labels.append(3)\n",
    "print('Total Images :'+ str(count))\n",
    "\n",
    "count=0\n",
    "print(TRAIN_Healthy_LOCATION_IMAGES)\n",
    "# Load all tomato healthy images\n",
    "for IMAGE_PATH in TrainHealthyFiles:\n",
    "    # Load the image from disk\n",
    "    count= count + 1\n",
    "    img = tf.keras.preprocessing.image.load_img(IMAGE_PATH, target_size=(IMG_HEIGHT, IMG_WIDTH))\n",
    "    image_array = tf.keras.preprocessing.image.img_to_array(img)\n",
    "\n",
    "    # Add the image to the list of images\n",
    "    images.append(image_array)\n",
    "    # For each 'leaf mold' image, the expected value should be 0\n",
    "    labels.append(4)\n",
    "print('Total Images :'+ str(count))\n",
    "\n",
    "# Create a single numpy array with all the images we loaded\n",
    "x_train = np.array(images)\n",
    "\n",
    "# Also convert the labels to a numpy array\n",
    "y_train = np.array(labels)\n",
    "\n",
    "# Normalize image data to 0-to-1 range\n",
    "#x_train = vgg16.preprocess_input(x_train)\n",
    "x_train = tf.keras.applications.vgg16.preprocess_input(x_train)"
   ]
  },
  {
   "cell_type": "markdown",
   "metadata": {
    "colab_type": "text",
    "id": "HkutJARHRpb9"
   },
   "source": [
    "# Features Extraction using Validation(VX, VY) Dataset"
   ]
  },
  {
   "cell_type": "code",
   "execution_count": 11,
   "metadata": {
    "colab": {
     "base_uri": "https://localhost:8080/",
     "height": 34
    },
    "colab_type": "code",
    "id": "DKfq8gmmSCrd",
    "outputId": "86b8f3a4-00fe-4613-99a6-a04fbe4e4488"
   },
   "outputs": [
    {
     "name": "stdout",
     "output_type": "stream",
     "text": [
      "/home/fakrul/Documents/PlantPathology/Tomato/val/EarlyBlight\n",
      "Total Images :1072\n",
      "/home/fakrul/Documents/PlantPathology/Tomato/val/LateBlight\n",
      "Total Images :1072\n",
      "/home/fakrul/Documents/PlantPathology/Tomato/val/LeafCurl\n",
      "Total Images :1072\n",
      "/home/fakrul/Documents/PlantPathology/Tomato/val/LeafMold\n",
      "Total Images :1072\n",
      "/home/fakrul/Documents/PlantPathology/Tomato/val/Healthy\n",
      "Total Images :1072\n"
     ]
    }
   ],
   "source": [
    "imagesv = []\n",
    "labelsv = []\n",
    "\n",
    "count =0 \n",
    "print(VALIDATE_EarlyBlight_LOCATION_IMAGES)\n",
    "# Load all tomato earlyblight val images\n",
    "for IMAGE_PATH in ValEarlyBlightFiles:\n",
    "    count = count + 1    \n",
    "    img = tf.keras.preprocessing.image.load_img(IMAGE_PATH, target_size=(IMG_HEIGHT, IMG_WIDTH))\n",
    "    image_array = tf.keras.preprocessing.image.img_to_array(img)\n",
    "\n",
    "    # Add the image to the list of images\n",
    "    imagesv.append(image_array)\n",
    "\n",
    "    # For each 'leaf mold' image, the expected value should be 0\n",
    "    labelsv.append(0)\n",
    "print('Total Images :'+ str(count))\n",
    "\n",
    "count = 0\n",
    "print(VALIDATE_LateBlight_LOCATION_IMAGES)\n",
    "# Load all tomato lateblight val images\n",
    "for IMAGE_PATH in ValLateBlightFiles:\n",
    "    # Load the image from disk\n",
    "    count = count + 1\n",
    "    img = tf.keras.preprocessing.image.load_img(IMAGE_PATH, target_size=(IMG_HEIGHT, IMG_WIDTH))\n",
    "    image_array = tf.keras.preprocessing.image.img_to_array(img)\n",
    "\n",
    "    # Add the image to the list of images\n",
    "    imagesv.append(image_array)\n",
    "    # For each 'leaf mold' image, the expected value should be 0\n",
    "    labelsv.append(1)\n",
    "print('Total Images :'+ str(count))\n",
    "\n",
    "count =0 \n",
    "print(VALIDATE_LeafCurl_LOCATION_IMAGES)\n",
    "# Load all tomato leafcurl val images\n",
    "for IMAGE_PATH in ValLeafCurlFiles:\n",
    "    # Load the image from disk\n",
    "    count = count + 1\n",
    "    img = tf.keras.preprocessing.image.load_img(IMAGE_PATH, target_size=(IMG_HEIGHT, IMG_WIDTH))\n",
    "    image_array = tf.keras.preprocessing.image.img_to_array(img)\n",
    "\n",
    "    # Add the image to the list of images\n",
    "    imagesv.append(image_array)\n",
    "    # For each 'leaf mold' image, the expected value should be 0\n",
    "    labelsv.append(2)\n",
    "print('Total Images :'+ str(count))\n",
    "\n",
    "count = 0\n",
    "print(VALIDATE_LeafMold_LOCATION_IMAGES)\n",
    "# Load all tomato leafmold val images\n",
    "for IMAGE_PATH in ValLeafMoldFiles:\n",
    "    # Load the image from disk\n",
    "    count = count + 1\n",
    "    img = tf.keras.preprocessing.image.load_img(IMAGE_PATH, target_size=(IMG_HEIGHT, IMG_WIDTH))\n",
    "    image_array = tf.keras.preprocessing.image.img_to_array(img)\n",
    "\n",
    "    # Add the image to the list of images\n",
    "    imagesv.append(image_array)\n",
    "    # For each 'leaf mold' image, the expected value should be 0\n",
    "    labelsv.append(3)\n",
    "print('Total Images :'+ str(count))\n",
    "\n",
    "\n",
    "count=0\n",
    "print(VALIDATE_Healthy_LOCATION_IMAGES)\n",
    "# Load all tomato healthy val images\n",
    "for IMAGE_PATH in ValHealthyFiles:\n",
    "    # Load the image from disk\n",
    "    count = count + 1\n",
    "    img = tf.keras.preprocessing.image.load_img(IMAGE_PATH, target_size=(IMG_HEIGHT, IMG_WIDTH))\n",
    "    image_array = tf.keras.preprocessing.image.img_to_array(img)\n",
    "\n",
    "    # Add the image to the list of images\n",
    "    imagesv.append(image_array)\n",
    "    # For each 'leaf mold' image, the expected value should be 0\n",
    "    labelsv.append(4)\n",
    "print('Total Images :'+ str(count))\n",
    "\n",
    "# Create a single numpy array with all the images we loaded\n",
    "xv_train = np.array(imagesv)\n",
    "\n",
    "# Also convert the labels to a numpy array\n",
    "yv_train = np.array(labelsv)\n",
    "\n",
    "# Normalize image data to 0-to-1 range\n",
    "#x_train = vgg16.preprocess_input(x_train)\n",
    "xv_train = tf.keras.applications.vgg16.preprocess_input(xv_train)"
   ]
  },
  {
   "cell_type": "markdown",
   "metadata": {
    "colab_type": "text",
    "id": "XKREEEvjT9r3"
   },
   "source": [
    "# Create the Model Based on VGG16"
   ]
  },
  {
   "cell_type": "code",
   "execution_count": 12,
   "metadata": {
    "colab": {
     "base_uri": "https://localhost:8080/",
     "height": 445
    },
    "colab_type": "code",
    "id": "uAcFVvJ7Rrq5",
    "outputId": "e8ec90df-469a-4bf1-ad8f-cb341762bcd8"
   },
   "outputs": [
    {
     "name": "stdout",
     "output_type": "stream",
     "text": [
      "WARNING:tensorflow:From /home/fakrul/intel_deep_learning_project/PlantPathology/lib/python3.6/site-packages/tensorflow/python/ops/init_ops.py:1251: calling VarianceScaling.__init__ (from tensorflow.python.ops.init_ops) with dtype is deprecated and will be removed in a future version.\n",
      "Instructions for updating:\n",
      "Call initializer instance with the dtype argument instead of passing it to the constructor\n",
      "Model: \"sequential\"\n",
      "_________________________________________________________________\n",
      "Layer (type)                 Output Shape              Param #   \n",
      "=================================================================\n",
      "vgg16 (Model)                (None, 2, 2, 512)         14714688  \n",
      "_________________________________________________________________\n",
      "flatten (Flatten)            (None, 2048)              0         \n",
      "_________________________________________________________________\n",
      "dense (Dense)                (None, 512)               1049088   \n",
      "_________________________________________________________________\n",
      "dropout (Dropout)            (None, 512)               0         \n",
      "_________________________________________________________________\n",
      "dense_1 (Dense)              (None, 5)                 2565      \n",
      "=================================================================\n",
      "Total params: 15,766,341\n",
      "Trainable params: 1,051,653\n",
      "Non-trainable params: 14,714,688\n",
      "_________________________________________________________________\n"
     ]
    },
    {
     "data": {
      "text/plain": [
       "(None, 64, 64, 3)"
      ]
     },
     "execution_count": 12,
     "metadata": {},
     "output_type": "execute_result"
    }
   ],
   "source": [
    "# Load a pre-trained neural network to use as a feature extractor\n",
    "\n",
    "pretrained_model = tf.keras.applications.VGG16(weights='imagenet', include_top=False ,input_shape=[*IMAGE_SIZE, 3])\n",
    "pretrained_model.trainable = False\n",
    "\n",
    "\n",
    "model = tf.keras.Sequential([\n",
    "    pretrained_model,\n",
    "    tf.keras.layers.Flatten(),\n",
    "    tf.keras.layers.Dense(512, activation='relu'),\n",
    "    tf.keras.layers.Dropout(0.5),\n",
    "    tf.keras.layers.Dense(5, activation='softmax')\n",
    "])\n",
    "\n",
    "model.compile(\n",
    "    optimizer='adam',\n",
    "    loss = 'sparse_categorical_crossentropy',\n",
    "    metrics=['accuracy']\n",
    ")\n",
    "\n",
    "model.summary()\n",
    "model.input_shape"
   ]
  },
  {
   "cell_type": "markdown",
   "metadata": {
    "colab_type": "text",
    "id": "SFXNczS7UFNe"
   },
   "source": [
    "# Train and Test The Model"
   ]
  },
  {
   "cell_type": "code",
   "execution_count": 13,
   "metadata": {
    "colab": {
     "base_uri": "https://localhost:8080/",
     "height": 391
    },
    "colab_type": "code",
    "id": "hUdtJMk3C6ew",
    "outputId": "748aef30-047c-4713-d1e3-e0933d8dff8c"
   },
   "outputs": [
    {
     "name": "stdout",
     "output_type": "stream",
     "text": [
      "Train on 21424 samples, validate on 5360 samples\n",
      "Epoch 1/10\n",
      "21424/21424 [==============================] - 220s 10ms/sample - loss: 1.6311 - acc: 0.7642 - val_loss: 0.3498 - val_acc: 0.8778\n",
      "Epoch 2/10\n",
      "21424/21424 [==============================] - 216s 10ms/sample - loss: 0.3784 - acc: 0.8677 - val_loss: 0.2774 - val_acc: 0.9006\n",
      "Epoch 3/10\n",
      "21424/21424 [==============================] - 234s 11ms/sample - loss: 0.2690 - acc: 0.9025 - val_loss: 0.2386 - val_acc: 0.9142\n",
      "Epoch 4/10\n",
      "21424/21424 [==============================] - 216s 10ms/sample - loss: 0.2258 - acc: 0.9195 - val_loss: 0.2034 - val_acc: 0.9299\n",
      "Epoch 5/10\n",
      "21424/21424 [==============================] - 219s 10ms/sample - loss: 0.1874 - acc: 0.9333 - val_loss: 0.2120 - val_acc: 0.9319\n",
      "Epoch 6/10\n",
      "21424/21424 [==============================] - 219s 10ms/sample - loss: 0.1601 - acc: 0.9448 - val_loss: 0.1922 - val_acc: 0.9351\n",
      "Epoch 7/10\n",
      "21424/21424 [==============================] - 217s 10ms/sample - loss: 0.1381 - acc: 0.9523 - val_loss: 0.1773 - val_acc: 0.9416\n",
      "Epoch 8/10\n",
      "21424/21424 [==============================] - 209s 10ms/sample - loss: 0.1343 - acc: 0.9527 - val_loss: 0.1794 - val_acc: 0.9409\n",
      "Epoch 9/10\n",
      "21424/21424 [==============================] - 211s 10ms/sample - loss: 0.1309 - acc: 0.9556 - val_loss: 0.1915 - val_acc: 0.9424\n",
      "Epoch 10/10\n",
      "21424/21424 [==============================] - 246s 12ms/sample - loss: 0.1213 - acc: 0.9568 - val_loss: 0.1786 - val_acc: 0.9468\n",
      "TRAINING TIME:  2207.5602355003357  sec\n"
     ]
    }
   ],
   "source": [
    "start_time = time.time()\n",
    "history=model.fit(\n",
    "    x_train,\n",
    "    y_train,    \n",
    "    validation_data=(xv_train, yv_train),\n",
    "    epochs=10,\n",
    "    batch_size=128,\n",
    "    shuffle=True\n",
    ")\n",
    "print(\"TRAINING TIME: \", time.time() - start_time, \" sec\")"
   ]
  },
  {
   "cell_type": "markdown",
   "metadata": {
    "colab_type": "text",
    "id": "k0E8ZWPiT4oW"
   },
   "source": [
    "# Evaluate the model"
   ]
  },
  {
   "cell_type": "code",
   "execution_count": 14,
   "metadata": {
    "colab": {
     "base_uri": "https://localhost:8080/",
     "height": 85
    },
    "colab_type": "code",
    "id": "FObNj7qVhXV3",
    "outputId": "4d5b9806-2245-45df-879e-41b539cdc190"
   },
   "outputs": [
    {
     "name": "stdout",
     "output_type": "stream",
     "text": [
      "\n",
      "# Evaluate on test data\n",
      "5360/5360 [==============================] - 42s 8ms/sample - loss: 0.1786 - acc: 0.9468\n",
      "test loss, test acc: [0.17860491704473744, 0.94682837]\n"
     ]
    }
   ],
   "source": [
    "# Evaluate the model on the test data using `evaluate`\n",
    "print('\\n# Evaluate on test data')\n",
    "results = model.evaluate(xv_train, yv_train, batch_size=128)\n",
    "print('test loss, test acc:', results)"
   ]
  },
  {
   "cell_type": "code",
   "execution_count": 15,
   "metadata": {
    "colab": {
     "base_uri": "https://localhost:8080/",
     "height": 34
    },
    "colab_type": "code",
    "id": "TeHCySuIGpYi",
    "outputId": "861c7970-b9ba-44e7-f24f-f4f784a5429e"
   },
   "outputs": [
    {
     "name": "stdout",
     "output_type": "stream",
     "text": [
      "FINAL ACCURACY MEAN-5(VGG16):  0.9413433\n"
     ]
    }
   ],
   "source": [
    "final_accuracy = history.history[\"val_acc\"][-5:]\n",
    "print(\"FINAL ACCURACY MEAN-5(VGG16): \", np.mean(final_accuracy))"
   ]
  },
  {
   "cell_type": "code",
   "execution_count": 16,
   "metadata": {
    "colab": {
     "base_uri": "https://localhost:8080/",
     "height": 34
    },
    "colab_type": "code",
    "id": "b14oHNqkHFWM",
    "outputId": "17a256a5-9038-47bf-f927-afda89ea2369"
   },
   "outputs": [
    {
     "name": "stdout",
     "output_type": "stream",
     "text": [
      "dict_keys(['loss', 'acc', 'val_loss', 'val_acc'])\n"
     ]
    }
   ],
   "source": [
    "print(history.history.keys())"
   ]
  },
  {
   "cell_type": "markdown",
   "metadata": {
    "colab_type": "text",
    "id": "PW4UH95RULxe"
   },
   "source": [
    "# Train and Test Accuracy Graph"
   ]
  },
  {
   "cell_type": "code",
   "execution_count": 17,
   "metadata": {
    "colab": {
     "base_uri": "https://localhost:8080/",
     "height": 295
    },
    "colab_type": "code",
    "id": "H6pRH8cWELJ7",
    "outputId": "1e229e38-01ab-4efd-ded8-852fb97a0bf5"
   },
   "outputs": [
    {
     "data": {
      "image/png": "[encoded data removed]",
      "text/plain": [
       "<Figure size 432x288 with 1 Axes>"
      ]
     },
     "metadata": {
      "needs_background": "light"
     },
     "output_type": "display_data"
    }
   ],
   "source": [
    "from matplotlib import pyplot as plt\n",
    "plt.plot(history.history['acc'])\n",
    "plt.plot(history.history['val_acc'])\n",
    "plt.title('Tomato model accuracy')\n",
    "plt.ylabel('accuracy')\n",
    "plt.xlabel('epoch')\n",
    "plt.legend(['train accuracy', 'validation accuracy'], loc='upper left')\n",
    "plt.show()"
   ]
  },
  {
   "cell_type": "markdown",
   "metadata": {
    "colab_type": "text",
    "id": "VCSPp8o_UR11"
   },
   "source": [
    "# Train and Test Loss Graph"
   ]
  },
  {
   "cell_type": "code",
   "execution_count": 18,
   "metadata": {
    "colab": {
     "base_uri": "https://localhost:8080/",
     "height": 295
    },
    "colab_type": "code",
    "id": "EFCPRqYGEa9T",
    "outputId": "c5b6cd66-dbbd-4b41-f0e2-9cfc09ff3d1b"
   },
   "outputs": [
    {
     "data": {
      "image/png": "[encoded data removed]",
      "text/plain": [
       "<Figure size 432x288 with 1 Axes>"
      ]
     },
     "metadata": {
      "needs_background": "light"
     },
     "output_type": "display_data"
    }
   ],
   "source": [
    "# summarize history for loss\n",
    "plt.plot(history.history['loss'])\n",
    "plt.title('Tomato model loss')\n",
    "plt.ylabel('loss')\n",
    "plt.plot(history.history['val_loss'])\n",
    "plt.xlabel('epoch')\n",
    "plt.legend(['training loss', 'validation loss'], loc='upper left')\n",
    "plt.show()"
   ]
  },
  {
   "cell_type": "markdown",
   "metadata": {
    "colab_type": "text",
    "id": "gpStrY-GUZBu"
   },
   "source": [
    "# Save the KERAS model and check the shape"
   ]
  },
  {
   "cell_type": "code",
   "execution_count": 19,
   "metadata": {
    "colab": {
     "base_uri": "https://localhost:8080/",
     "height": 479
    },
    "colab_type": "code",
    "id": "0DmZ223jNi9o",
    "outputId": "4fd7cc33-9683-49cd-b9e7-64056ca659cb"
   },
   "outputs": [
    {
     "name": "stdout",
     "output_type": "stream",
     "text": [
      "/home/fakrul/Documents/PlantPathology/Model/64/keras/tomato.h5\n",
      "WARNING:tensorflow:From /home/fakrul/intel_deep_learning_project/PlantPathology/lib/python3.6/site-packages/tensorflow/python/ops/init_ops.py:97: calling GlorotUniform.__init__ (from tensorflow.python.ops.init_ops) with dtype is deprecated and will be removed in a future version.\n",
      "Instructions for updating:\n",
      "Call initializer instance with the dtype argument instead of passing it to the constructor\n",
      "WARNING:tensorflow:From /home/fakrul/intel_deep_learning_project/PlantPathology/lib/python3.6/site-packages/tensorflow/python/ops/init_ops.py:97: calling Zeros.__init__ (from tensorflow.python.ops.init_ops) with dtype is deprecated and will be removed in a future version.\n",
      "Instructions for updating:\n",
      "Call initializer instance with the dtype argument instead of passing it to the constructor\n",
      "Model: \"sequential\"\n",
      "_________________________________________________________________\n",
      "Layer (type)                 Output Shape              Param #   \n",
      "=================================================================\n",
      "vgg16 (Model)                (None, 2, 2, 512)         14714688  \n",
      "_________________________________________________________________\n",
      "flatten (Flatten)            (None, 2048)              0         \n",
      "_________________________________________________________________\n",
      "dense (Dense)                (None, 512)               1049088   \n",
      "_________________________________________________________________\n",
      "dropout (Dropout)            (None, 512)               0         \n",
      "_________________________________________________________________\n",
      "dense_1 (Dense)              (None, 5)                 2565      \n",
      "=================================================================\n",
      "Total params: 15,766,341\n",
      "Trainable params: 1,051,653\n",
      "Non-trainable params: 14,714,688\n",
      "_________________________________________________________________\n"
     ]
    },
    {
     "data": {
      "text/plain": [
       "(None, 64, 64, 3)"
      ]
     },
     "execution_count": 19,
     "metadata": {},
     "output_type": "execute_result"
    }
   ],
   "source": [
    "print(KERAS_PATH)\n",
    "model.save(KERAS_PATH) \n",
    "# Recreate the exact same model, including its weights and the optimizer\n",
    "saved_model = tf.keras.models.load_model(KERAS_PATH)\n",
    "\n",
    "# Show the model architecture\n",
    "saved_model.summary()\n",
    "saved_model.input_shape"
   ]
  },
  {
   "cell_type": "markdown",
   "metadata": {
    "colab_type": "text",
    "id": "o0HjuOM4S9kn"
   },
   "source": [
    "# Saved Keras Model to Tensorflow Model Conversion"
   ]
  },
  {
   "cell_type": "code",
   "execution_count": 20,
   "metadata": {
    "colab": {
     "base_uri": "https://localhost:8080/",
     "height": 173
    },
    "colab_type": "code",
    "id": "-kZJ6gGKqhg6",
    "outputId": "e72c9e1a-f8a6-4891-ec36-20810c67e66d"
   },
   "outputs": [
    {
     "name": "stdout",
     "output_type": "stream",
     "text": [
      "WARNING:tensorflow:From <ipython-input-20-84e616a026c1>:36: convert_variables_to_constants (from tensorflow.python.framework.graph_util_impl) is deprecated and will be removed in a future version.\n",
      "Instructions for updating:\n",
      "Use `tf.compat.v1.graph_util.convert_variables_to_constants`\n",
      "WARNING:tensorflow:From /home/fakrul/intel_deep_learning_project/PlantPathology/lib/python3.6/site-packages/tensorflow/python/framework/graph_util_impl.py:270: extract_sub_graph (from tensorflow.python.framework.graph_util_impl) is deprecated and will be removed in a future version.\n",
      "Instructions for updating:\n",
      "Use `tf.compat.v1.graph_util.extract_sub_graph`\n",
      "INFO:tensorflow:Froze 86 variables.\n",
      "INFO:tensorflow:Converted 86 variables to const ops.\n"
     ]
    }
   ],
   "source": [
    "import tensorflow as tf\n",
    "import tensorflow.keras.backend as K\n",
    "\n",
    "K.set_learning_phase(0)\n",
    "\n",
    "\n",
    "model_name = 's_tomato_tensorflowmodel'\n",
    "\n",
    "def freeze_session(session, keep_var_names=None, output_names=None, clear_devices=True):\n",
    "    \"\"\"\n",
    "    Freezes the state of a session into a pruned computation graph.\n",
    "\n",
    "    Creates a new computation graph where variable nodes are replaced by\n",
    "    constants taking their current value in the session. The new graph will be\n",
    "    pruned so subgraphs that are not necessary to compute the requested\n",
    "    outputs are removed.\n",
    "    @param session The TensorFlow session to be frozen.\n",
    "    @param keep_var_names A list of variable names that should not be frozen,\n",
    "                          or None to freeze all the variables in the graph.\n",
    "    @param output_names Names of the relevant graph outputs.\n",
    "    @param clear_devices Remove the device directives from the graph for better portability.\n",
    "    @return The frozen graph definition.\n",
    "    \"\"\"\n",
    "    from tensorflow.python.framework.graph_util import convert_variables_to_constants\n",
    "    graph = session.graph\n",
    "    with graph.as_default():\n",
    "        freeze_var_names = list(set(v.op.name for v in tf.global_variables()).difference(keep_var_names or []))\n",
    "        output_names = output_names or []\n",
    "        output_names += [v.op.name for v in tf.global_variables()]\n",
    "        # Graph -> GraphDef ProtoBuf\n",
    "        input_graph_def = graph.as_graph_def()\n",
    "        if clear_devices:\n",
    "            for node in input_graph_def.node:\n",
    "                node.device = \"\"\n",
    "        frozen_graph = convert_variables_to_constants(session, input_graph_def,\n",
    "                                                      output_names, freeze_var_names)\n",
    "        return frozen_graph\n",
    "\n",
    "\n",
    "\n",
    "\n",
    "frozen_graph = freeze_session(K.get_session(),\n",
    "                              output_names=[out.op.name for out in saved_model.outputs], \n",
    "                              clear_devices=True)\n",
    "\n",
    "tf.train.write_graph(frozen_graph, TensorFlow_PATH, model_name+\".pb\", as_text=False)\n",
    "\n",
    "output_model_name = model_name + \".pb\"\n",
    "output_model_path = TensorFlow_PATH + output_model_name"
   ]
  },
  {
   "cell_type": "markdown",
   "metadata": {
    "colab_type": "text",
    "id": "BDPVMyNZJiwC"
   },
   "source": [
    "# In memory Keras Model to TensorFlow Model Conversion"
   ]
  },
  {
   "cell_type": "code",
   "execution_count": 21,
   "metadata": {
    "colab": {
     "base_uri": "https://localhost:8080/",
     "height": 51
    },
    "colab_type": "code",
    "id": "2ldx3toUJtvb",
    "outputId": "dc347d68-481e-4fbb-9cd8-59093e2bf0ec"
   },
   "outputs": [
    {
     "name": "stdout",
     "output_type": "stream",
     "text": [
      "INFO:tensorflow:Froze 86 variables.\n",
      "INFO:tensorflow:Converted 86 variables to const ops.\n"
     ]
    }
   ],
   "source": [
    "import tensorflow as tf\n",
    "import tensorflow.keras.backend as K\n",
    "\n",
    "K.set_learning_phase(0)\n",
    "\n",
    "\n",
    "model_name = 'm_tomato_tensorflowmodel'\n",
    "\n",
    "def freeze_session(session, keep_var_names=None, output_names=None, clear_devices=True):\n",
    "    \"\"\"\n",
    "    Freezes the state of a session into a pruned computation graph.\n",
    "\n",
    "    Creates a new computation graph where variable nodes are replaced by\n",
    "    constants taking their current value in the session. The new graph will be\n",
    "    pruned so subgraphs that are not necessary to compute the requested\n",
    "    outputs are removed.\n",
    "    @param session The TensorFlow session to be frozen.\n",
    "    @param keep_var_names A list of variable names that should not be frozen,\n",
    "                          or None to freeze all the variables in the graph.\n",
    "    @param output_names Names of the relevant graph outputs.\n",
    "    @param clear_devices Remove the device directives from the graph for better portability.\n",
    "    @return The frozen graph definition.\n",
    "    \"\"\"\n",
    "    from tensorflow.python.framework.graph_util import convert_variables_to_constants\n",
    "    graph = session.graph\n",
    "    with graph.as_default():\n",
    "        freeze_var_names = list(set(v.op.name for v in tf.global_variables()).difference(keep_var_names or []))\n",
    "        output_names = output_names or []\n",
    "        output_names += [v.op.name for v in tf.global_variables()]\n",
    "        # Graph -> GraphDef ProtoBuf\n",
    "        input_graph_def = graph.as_graph_def()\n",
    "        if clear_devices:\n",
    "            for node in input_graph_def.node:\n",
    "                node.device = \"\"\n",
    "        frozen_graph = convert_variables_to_constants(session, input_graph_def,\n",
    "                                                      output_names, freeze_var_names)\n",
    "        return frozen_graph\n",
    "\n",
    "\n",
    "\n",
    "\n",
    "frozen_graph = freeze_session(K.get_session(),\n",
    "                              output_names=[out.op.name for out in model.outputs], \n",
    "                              clear_devices=True)\n",
    "\n",
    "tf.train.write_graph(frozen_graph, TensorFlow_PATH, model_name+\".pb\", as_text=False)\n",
    "\n",
    "output_model_name = model_name + \".pb\"\n",
    "output_model_path = TensorFlow_PATH + output_model_name"
   ]
  }
 ],
 "metadata": {
  "accelerator": "GPU",
  "colab": {
   "collapsed_sections": [],
   "machine_shape": "hm",
   "name": "tsiailab_tomato_diseases_solution_v1.ipynb",
   "provenance": []
  },
  "kernelspec": {
   "display_name": "Python 3",
   "language": "python",
   "name": "python3"
  },
  "language_info": {
   "codemirror_mode": {
    "name": "ipython",
    "version": 3
   },
   "file_extension": ".py",
   "mimetype": "text/x-python",
   "name": "python",
   "nbconvert_exporter": "python",
   "pygments_lexer": "ipython3",
   "version": "3.6.9"
  }
 },
 "nbformat": 4,
 "nbformat_minor": 1
}
