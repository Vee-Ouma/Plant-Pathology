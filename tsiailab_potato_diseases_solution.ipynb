{
 "cells": [
  {
   "cell_type": "markdown",
   "metadata": {
    "colab_type": "text",
    "id": "rsJJ3NBHUeWP"
   },
   "source": [
    "# Author: MD Fakrul Islam, fakrul.islam@tsi.com.bd\n",
    "# Import Necessery Library"
   ]
  },
  {
   "cell_type": "code",
   "execution_count": 2,
   "metadata": {
    "colab": {
     "base_uri": "https://localhost:8080/",
     "height": 34
    },
    "colab_type": "code",
    "id": "X1ykpVlFGqJH",
    "outputId": "259158a1-1af4-459d-b58d-67705ba85d7c"
   },
   "outputs": [
    {
     "name": "stdout",
     "output_type": "stream",
     "text": [
      "Tensorflow version 1.14.0\n"
     ]
    }
   ],
   "source": [
    "import os, sys, math, time\n",
    "import numpy as np\n",
    "from matplotlib import pyplot as plt\n",
    "import tensorflow as tf\n",
    "print(\"Tensorflow version \" + tf.__version__)"
   ]
  },
  {
   "cell_type": "markdown",
   "metadata": {},
   "source": [
    "# SET Image Dimension\n",
    "# Model developed by images of (224,224) dimension is suitable for High Processor and Ram, Mean Validation Accuracy ~ 98%.\n",
    "# Model developed by images of (32,32) Dimension is suitable for intel dev cloude edge platform for optimization using intel distributed openvino toolkit, Mean Validation Accuracy ~ 90%-92%.\n",
    "# Create folder of names 32, 64, 128 and 224 under the Model Folder to create models of similar dimension. Image of 32*32 dimension has been shown in this codebase.\n",
    "# Select right dimension that is suitable for your workstation(PROCESSOR and RAM)"
   ]
  },
  {
   "cell_type": "code",
   "execution_count": 3,
   "metadata": {},
   "outputs": [
    {
     "name": "stdout",
     "output_type": "stream",
     "text": [
      "Image Dimension Loaded\n"
     ]
    }
   ],
   "source": [
    "IMG_HEIGHT = 128\n",
    "IMG_WIDTH = 128\n",
    "IMAGE_SIZE = [IMG_HEIGHT, IMG_WIDTH]\n",
    "print('Image Dimension Loaded')"
   ]
  },
  {
   "cell_type": "markdown",
   "metadata": {
    "colab_type": "text",
    "id": "N90RIAVopqp8"
   },
   "source": [
    "# Set Training and Validation IMAGE Path\n",
    "# Set Saved Keras Model Path\n",
    "# Set Saved Tensorflow Model Path"
   ]
  },
  {
   "cell_type": "code",
   "execution_count": 4,
   "metadata": {
    "colab": {},
    "colab_type": "code",
    "id": "0ttt-do9plmv"
   },
   "outputs": [
    {
     "name": "stdout",
     "output_type": "stream",
     "text": [
      "All path loaded\n"
     ]
    }
   ],
   "source": [
    "#Training Images\n",
    "TRAIN_EarlyBlight_LOCATION_IMAGES='/home/fakrul/Documents/PlantPathology/Potato/train/EarlyBlight'\n",
    "TRAIN_LateBlight_LOCATION_IMAGES='/home/fakrul/Documents/PlantPathology/Potato/train/LateBlight'\n",
    "TRAIN_Healthy_LOCATION_IMAGES='/home/fakrul/Documents/PlantPathology/Potato/train/Healthy'\n",
    "\n",
    "#Validating Images\n",
    "VALIDATE_EarlyBlight_LOCATION_IMAGES='/home/fakrul/Documents/PlantPathology/Potato/val/EarlyBlight'\n",
    "VALIDATE_LateBlight_LOCATION_IMAGES='/home/fakrul/Documents/PlantPathology/Potato/val/LateBlight'\n",
    "VALIDATE_Healthy_LOCATION_IMAGES='/home/fakrul/Documents/PlantPathology/Potato/val/Healthy'\n",
    "\n",
    "#Saved Keras Model Path\n",
    "KERAS_PATH = '/home/fakrul/Documents/PlantPathology/Model/128/keras/potato.h5'\n",
    "\n",
    "#Saved TensorFlow Model Path\n",
    "TensorFlow_PATH='/home/fakrul/Documents/PlantPathology/Model/128/tf'\n",
    "\n",
    "print('All path loaded')"
   ]
  },
  {
   "cell_type": "markdown",
   "metadata": {
    "colab_type": "text",
    "id": "026i2U3TqSgZ"
   },
   "source": [
    "# Load all Training and Validation IMAGES path in the memory"
   ]
  },
  {
   "cell_type": "code",
   "execution_count": 6,
   "metadata": {
    "colab": {
     "base_uri": "https://localhost:8080/",
     "height": 119
    },
    "colab_type": "code",
    "id": "m9Sasb9OnSAs",
    "outputId": "58af31c1-f713-41d9-f1a9-029065715ca7"
   },
   "outputs": [
    {
     "name": "stdout",
     "output_type": "stream",
     "text": [
      "Total Train EarlyBlight Files: 800\n",
      "Total Validate EarlyBlight Files: 200\n",
      "Total Train LateBlight Files: 800\n",
      "Total Validate LateBlight Files: 200\n",
      "Total Train Healthy Files: 800\n",
      "Total Validate Healthy Files: 200\n",
      "Image Path loaded into list\n"
     ]
    }
   ],
   "source": [
    "from os.path import join\n",
    "from glob import glob\n",
    "\n",
    "TrainEarlyBlightFiles = []\n",
    "ValEarlyBlightFiles = []\n",
    "\n",
    "TrainLateBlightFiles = []\n",
    "ValLateBlightFiles = []\n",
    "\n",
    "TrainHealthyFiles = []\n",
    "ValHealthyFiles = []\n",
    "\n",
    "def getListSize(itel_list):\n",
    "    count = 0\n",
    "    for img_path in itel_list:  \n",
    "        count = count + 1\n",
    "    return count\n",
    "\n",
    "for ext in ('*.JPEG', '*.JPG', '*.jpg', 'jpeg'):\n",
    "   TrainEarlyBlightFiles.extend(glob(join(TRAIN_EarlyBlight_LOCATION_IMAGES, ext)))\n",
    "   ValEarlyBlightFiles.extend(glob(join(VALIDATE_EarlyBlight_LOCATION_IMAGES, ext)))\n",
    "   TrainLateBlightFiles.extend(glob(join(TRAIN_LateBlight_LOCATION_IMAGES, ext)))\n",
    "   ValLateBlightFiles.extend(glob(join(VALIDATE_LateBlight_LOCATION_IMAGES, ext)))\n",
    "   TrainHealthyFiles.extend(glob(join(TRAIN_Healthy_LOCATION_IMAGES, ext)))\n",
    "   ValHealthyFiles.extend(glob(join(VALIDATE_Healthy_LOCATION_IMAGES, ext)))\n",
    "\n",
    "print('Total Train EarlyBlight Files:',getListSize(TrainEarlyBlightFiles))\n",
    "print('Total Validate EarlyBlight Files:',getListSize(ValEarlyBlightFiles))\n",
    "print('Total Train LateBlight Files:',getListSize(TrainLateBlightFiles))\n",
    "print('Total Validate LateBlight Files:',getListSize(ValLateBlightFiles))\n",
    "print('Total Train Healthy Files:',getListSize(TrainHealthyFiles))\n",
    "print('Total Validate Healthy Files:',getListSize(ValHealthyFiles))\n",
    "print('Image Path loaded into list')"
   ]
  },
  {
   "cell_type": "markdown",
   "metadata": {
    "colab_type": "text",
    "id": "WGCkazayVIjn"
   },
   "source": [
    "# Features Extraction using Training Dataset(TX,TY)"
   ]
  },
  {
   "cell_type": "code",
   "execution_count": 7,
   "metadata": {
    "colab": {
     "base_uri": "https://localhost:8080/",
     "height": 153
    },
    "colab_type": "code",
    "id": "uISUl8Odasmu",
    "outputId": "b3d32661-12c5-4fb3-f8e9-dcfe3de5fde1"
   },
   "outputs": [
    {
     "name": "stderr",
     "output_type": "stream",
     "text": [
      "Using TensorFlow backend.\n"
     ]
    },
    {
     "name": "stdout",
     "output_type": "stream",
     "text": [
      "Tensorflow version 1.14.0\n",
      "TRAIN_EarlyBlight_LOCATION_IMAGES: /home/fakrul/Documents/PlantPathology/Potato/train/EarlyBlight\n",
      "Total Early Blight Images: 800\n",
      "TRAIN_LateBlight_LOCATION_IMAGES: /home/fakrul/Documents/PlantPathology/Potato/train/LateBlight\n",
      "Total Late Blight Images: 800\n",
      "TRAIN_Healthy_LOCATION_IMAGES: /home/fakrul/Documents/PlantPathology/Potato/train/Healthy\n",
      "Total Healthy Images: 800\n"
     ]
    }
   ],
   "source": [
    "from pathlib import Path\n",
    "import numpy as np\n",
    "import joblib\n",
    "from keras.preprocessing import image\n",
    "from keras.applications import vgg16\n",
    "\n",
    "print(\"Tensorflow version \" + tf.__version__)\n",
    "\n",
    "images = []\n",
    "labels = []\n",
    "\n",
    "count=0\n",
    "print('TRAIN_EarlyBlight_LOCATION_IMAGES:',TRAIN_EarlyBlight_LOCATION_IMAGES)\n",
    "# Load all potato earlyblight images\n",
    "for IMAGE_PATH in TrainEarlyBlightFiles:\n",
    "    count = count + 1    \n",
    "    img = tf.keras.preprocessing.image.load_img(IMAGE_PATH, target_size=(IMG_HEIGHT,IMG_WIDTH))\n",
    "    image_array = tf.keras.preprocessing.image.img_to_array(img)\n",
    "\n",
    "    # Add the image to the list of images\n",
    "    images.append(image_array)\n",
    "\n",
    "    # For each 'leaf mold' image, the expected value should be 0\n",
    "    labels.append(0)\n",
    "print('Total Early Blight Images: '+str(count))\n",
    "\n",
    "count = 0\n",
    "print('TRAIN_LateBlight_LOCATION_IMAGES:', TRAIN_LateBlight_LOCATION_IMAGES)\n",
    "# Load all potato lateblight images\n",
    "for IMAGE_PATH in TrainLateBlightFiles:\n",
    "    # Load the image from disk\n",
    "    count = count + 1\n",
    "    img = tf.keras.preprocessing.image.load_img(IMAGE_PATH, target_size=(IMG_HEIGHT,IMG_WIDTH))\n",
    "    image_array = tf.keras.preprocessing.image.img_to_array(img)\n",
    "\n",
    "    # Add the image to the list of images\n",
    "    images.append(image_array)\n",
    "    # For each 'leaf mold' image, the expected value should be 0\n",
    "    labels.append(1)\n",
    "print('Total Late Blight Images: '+str(count))\n",
    "\n",
    "count = 0\n",
    "print('TRAIN_Healthy_LOCATION_IMAGES:',TRAIN_Healthy_LOCATION_IMAGES)\n",
    "# Load all potato healthy images\n",
    "for IMAGE_PATH in TrainHealthyFiles:\n",
    "    # Load the image from disk\n",
    "    count = count + 1\n",
    "    img = tf.keras.preprocessing.image.load_img(IMAGE_PATH, target_size=(IMG_HEIGHT,IMG_WIDTH))\n",
    "    image_array = tf.keras.preprocessing.image.img_to_array(img)\n",
    "\n",
    "    # Add the image to the list of images\n",
    "    images.append(image_array)\n",
    "    # For each 'leaf mold' image, the expected value should be 0\n",
    "    labels.append(2)\n",
    "print('Total Healthy Images: '+str(count))\n",
    "\n",
    "# Create a single numpy array with all the images we loaded\n",
    "x_train = np.array(images)\n",
    "\n",
    "# Also convert the labels to a numpy array\n",
    "y_train = np.array(labels)\n",
    "\n",
    "# Normalize image data to 0-to-1 range\n",
    "#x_train = vgg16.preprocess_input(x_train)\n",
    "x_train = tf.keras.applications.vgg16.preprocess_input(x_train)"
   ]
  },
  {
   "cell_type": "markdown",
   "metadata": {
    "colab_type": "text",
    "id": "HkutJARHRpb9"
   },
   "source": [
    "# Features Extraction using Validation(VX, VY) Dataset"
   ]
  },
  {
   "cell_type": "code",
   "execution_count": 8,
   "metadata": {
    "colab": {
     "base_uri": "https://localhost:8080/",
     "height": 119
    },
    "colab_type": "code",
    "id": "DKfq8gmmSCrd",
    "outputId": "423980fb-21d4-405c-ef52-69efb108b431"
   },
   "outputs": [
    {
     "name": "stdout",
     "output_type": "stream",
     "text": [
      "VALIDATE_EarlyBlight_LOCATION_IMAGES:  /home/fakrul/Documents/PlantPathology/Potato/val/EarlyBlight\n",
      "Total Images: 200\n",
      "VALIDATE_LateBlight_LOCATION_IMAGES /home/fakrul/Documents/PlantPathology/Potato/val/LateBlight\n",
      "Total Images: 200\n",
      "VALIDATE_Healthy_LOCATION_IMAGES: /home/fakrul/Documents/PlantPathology/Potato/val/Healthy\n",
      "Total Images: 200\n"
     ]
    }
   ],
   "source": [
    "imagesv = []\n",
    "labelsv = []\n",
    "\n",
    "count = 0\n",
    "print('VALIDATE_EarlyBlight_LOCATION_IMAGES: ', VALIDATE_EarlyBlight_LOCATION_IMAGES)\n",
    "# Load all potato earlyblight val images\n",
    "for IMAGE_PATH in ValEarlyBlightFiles:\n",
    "    count = count + 1    \n",
    "    img = tf.keras.preprocessing.image.load_img(IMAGE_PATH, target_size=(IMG_HEIGHT,IMG_WIDTH))\n",
    "    image_array = tf.keras.preprocessing.image.img_to_array(img)\n",
    "\n",
    "    # Add the image to the list of images\n",
    "    imagesv.append(image_array)\n",
    "\n",
    "    # For each 'earlyblight' image, the expected value should be 0\n",
    "    labelsv.append(0)\n",
    "print('Total Images: '+str(count))\n",
    "\n",
    "count = 0\n",
    "print('VALIDATE_LateBlight_LOCATION_IMAGES', VALIDATE_LateBlight_LOCATION_IMAGES)\n",
    "# Load all potato lateblight val images\n",
    "for IMAGE_PATH in ValLateBlightFiles:\n",
    "    # Load the image from disk\n",
    "    count = count + 1\n",
    "    img = tf.keras.preprocessing.image.load_img(IMAGE_PATH, target_size=(IMG_HEIGHT,IMG_WIDTH))\n",
    "    image_array = tf.keras.preprocessing.image.img_to_array(img)\n",
    "\n",
    "    # Add the image to the list of images\n",
    "    imagesv.append(image_array)\n",
    "    # For each 'late blight' image, the expected value should be 0\n",
    "    labelsv.append(1)\n",
    "print('Total Images: '+str(count))\n",
    "\n",
    "count = 0 \n",
    "print('VALIDATE_Healthy_LOCATION_IMAGES:',VALIDATE_Healthy_LOCATION_IMAGES)\n",
    "# Load all tomato healthy val images\n",
    "for IMAGE_PATH in ValHealthyFiles:\n",
    "    # Load the image from disk\n",
    "    count = count + 1\n",
    "    img = tf.keras.preprocessing.image.load_img(IMAGE_PATH, target_size=(IMG_HEIGHT,IMG_WIDTH))\n",
    "    image_array = tf.keras.preprocessing.image.img_to_array(img)\n",
    "\n",
    "    # Add the image to the list of images\n",
    "    imagesv.append(image_array)\n",
    "    # For each 'healthy' image, the expected value should be 0\n",
    "    labelsv.append(2)\n",
    "\n",
    "print('Total Images: '+str(count))\n",
    "# Create a single numpy array with all the images we loaded\n",
    "xv_train = np.array(imagesv)\n",
    "\n",
    "# Also convert the labels to a numpy array\n",
    "yv_train = np.array(labelsv)\n",
    "\n",
    "# Normalize image data to 0-to-1 range\n",
    "#x_train = vgg16.preprocess_input(x_train)\n",
    "xv_train = tf.keras.applications.vgg16.preprocess_input(xv_train)\n"
   ]
  },
  {
   "cell_type": "markdown",
   "metadata": {
    "colab_type": "text",
    "id": "XKREEEvjT9r3"
   },
   "source": [
    "# Create the Model Based on VGG16"
   ]
  },
  {
   "cell_type": "code",
   "execution_count": 9,
   "metadata": {
    "colab": {
     "base_uri": "https://localhost:8080/",
     "height": 411
    },
    "colab_type": "code",
    "id": "uAcFVvJ7Rrq5",
    "outputId": "05d6bc33-a708-49e9-f2af-5be77443fc3f"
   },
   "outputs": [
    {
     "name": "stdout",
     "output_type": "stream",
     "text": [
      "WARNING:tensorflow:From /home/fakrul/intel_deep_learning_project/PlantPathology/lib/python3.6/site-packages/tensorflow/python/ops/init_ops.py:1251: calling VarianceScaling.__init__ (from tensorflow.python.ops.init_ops) with dtype is deprecated and will be removed in a future version.\n",
      "Instructions for updating:\n",
      "Call initializer instance with the dtype argument instead of passing it to the constructor\n",
      "Model: \"sequential\"\n",
      "_________________________________________________________________\n",
      "Layer (type)                 Output Shape              Param #   \n",
      "=================================================================\n",
      "vgg16 (Model)                (None, 4, 4, 512)         14714688  \n",
      "_________________________________________________________________\n",
      "flatten (Flatten)            (None, 8192)              0         \n",
      "_________________________________________________________________\n",
      "dense (Dense)                (None, 512)               4194816   \n",
      "_________________________________________________________________\n",
      "dropout (Dropout)            (None, 512)               0         \n",
      "_________________________________________________________________\n",
      "dense_1 (Dense)              (None, 3)                 1539      \n",
      "=================================================================\n",
      "Total params: 18,911,043\n",
      "Trainable params: 4,196,355\n",
      "Non-trainable params: 14,714,688\n",
      "_________________________________________________________________\n"
     ]
    },
    {
     "data": {
      "text/plain": [
       "(None, 128, 128, 3)"
      ]
     },
     "execution_count": 9,
     "metadata": {},
     "output_type": "execute_result"
    }
   ],
   "source": [
    "# Load a pre-trained neural network to use as a feature extractor\n",
    "\n",
    "pretrained_model = tf.keras.applications.VGG16(weights='imagenet', include_top=False ,input_shape=[*IMAGE_SIZE, 3])\n",
    "pretrained_model.trainable = False\n",
    "\n",
    "\n",
    "model = tf.keras.Sequential([\n",
    "    pretrained_model,\n",
    "    tf.keras.layers.Flatten(),\n",
    "    tf.keras.layers.Dense(512, activation='relu'),\n",
    "    tf.keras.layers.Dropout(0.5),\n",
    "    tf.keras.layers.Dense(3, activation='softmax')\n",
    "])\n",
    "\n",
    "model.compile(\n",
    "    optimizer='adam',\n",
    "    loss = 'sparse_categorical_crossentropy',\n",
    "    metrics=['accuracy']\n",
    ")\n",
    "\n",
    "model.summary()\n",
    "model.input_shape"
   ]
  },
  {
   "cell_type": "markdown",
   "metadata": {
    "colab_type": "text",
    "id": "SFXNczS7UFNe"
   },
   "source": [
    "# Train and Test The Model"
   ]
  },
  {
   "cell_type": "code",
   "execution_count": 10,
   "metadata": {
    "colab": {
     "base_uri": "https://localhost:8080/",
     "height": 391
    },
    "colab_type": "code",
    "id": "hUdtJMk3C6ew",
    "outputId": "a30abc20-0512-4e42-b42d-25c87ea2bd2c"
   },
   "outputs": [
    {
     "name": "stdout",
     "output_type": "stream",
     "text": [
      "Train on 2400 samples, validate on 600 samples\n",
      "Epoch 1/10\n",
      "2400/2400 [==============================] - 107s 44ms/sample - loss: 4.9212 - acc: 0.8283 - val_loss: 0.9094 - val_acc: 0.9500\n",
      "Epoch 2/10\n",
      "2400/2400 [==============================] - 101s 42ms/sample - loss: 0.7387 - acc: 0.9608 - val_loss: 0.4343 - val_acc: 0.9717\n",
      "Epoch 3/10\n",
      "2400/2400 [==============================] - 106s 44ms/sample - loss: 0.2129 - acc: 0.9821 - val_loss: 0.2773 - val_acc: 0.9667\n",
      "Epoch 4/10\n",
      "2400/2400 [==============================] - 103s 43ms/sample - loss: 0.1232 - acc: 0.9862 - val_loss: 0.3817 - val_acc: 0.9767\n",
      "Epoch 5/10\n",
      "2400/2400 [==============================] - 105s 44ms/sample - loss: 0.0732 - acc: 0.9904 - val_loss: 0.1117 - val_acc: 0.9900\n",
      "Epoch 6/10\n",
      "2400/2400 [==============================] - 105s 44ms/sample - loss: 0.0186 - acc: 0.9967 - val_loss: 0.2303 - val_acc: 0.9750\n",
      "Epoch 7/10\n",
      "2400/2400 [==============================] - 107s 45ms/sample - loss: 0.0216 - acc: 0.9937 - val_loss: 0.0842 - val_acc: 0.9900\n",
      "Epoch 8/10\n",
      "2400/2400 [==============================] - 110s 46ms/sample - loss: 0.0330 - acc: 0.9958 - val_loss: 0.1459 - val_acc: 0.9850\n",
      "Epoch 9/10\n",
      "2400/2400 [==============================] - 100s 42ms/sample - loss: 0.0238 - acc: 0.9962 - val_loss: 0.2166 - val_acc: 0.9800\n",
      "Epoch 10/10\n",
      "2400/2400 [==============================] - 99s 41ms/sample - loss: 0.0276 - acc: 0.9954 - val_loss: 0.1142 - val_acc: 0.9933\n",
      "TRAINING TIME:  1044.5023500919342  sec\n"
     ]
    }
   ],
   "source": [
    "start_time = time.time()\n",
    "history=model.fit(\n",
    "    x_train,\n",
    "    y_train,    \n",
    "    validation_data=(xv_train, yv_train),\n",
    "    epochs=10,\n",
    "    batch_size=128,\n",
    "    shuffle=True\n",
    ")\n",
    "print(\"TRAINING TIME: \", time.time() - start_time, \" sec\")"
   ]
  },
  {
   "cell_type": "markdown",
   "metadata": {
    "colab_type": "text",
    "id": "k0E8ZWPiT4oW"
   },
   "source": [
    "# Evaluate the model"
   ]
  },
  {
   "cell_type": "code",
   "execution_count": 11,
   "metadata": {
    "colab": {
     "base_uri": "https://localhost:8080/",
     "height": 85
    },
    "colab_type": "code",
    "id": "FObNj7qVhXV3",
    "outputId": "543d142e-90e7-42d6-a402-994151cfd534"
   },
   "outputs": [
    {
     "name": "stdout",
     "output_type": "stream",
     "text": [
      "\n",
      "# Evaluate on test data\n",
      "600/600 [==============================] - 18s 31ms/sample - loss: 0.1142 - acc: 0.9933\n",
      "test loss, test acc: [0.11420757258854186, 0.99333334]\n"
     ]
    }
   ],
   "source": [
    "# Evaluate the model on the test data using `evaluate`\n",
    "print('\\n# Evaluate on test data')\n",
    "results = model.evaluate(xv_train, yv_train, batch_size=128)\n",
    "print('test loss, test acc:', results)"
   ]
  },
  {
   "cell_type": "code",
   "execution_count": 12,
   "metadata": {
    "colab": {
     "base_uri": "https://localhost:8080/",
     "height": 34
    },
    "colab_type": "code",
    "id": "TeHCySuIGpYi",
    "outputId": "958af25f-9b07-4306-f30a-3a43a3fc04c5"
   },
   "outputs": [
    {
     "name": "stdout",
     "output_type": "stream",
     "text": [
      "FINAL ACCURACY MEAN-5(VGG16):  0.98466665\n"
     ]
    }
   ],
   "source": [
    "final_accuracy = history.history[\"val_acc\"][-5:]\n",
    "print(\"FINAL ACCURACY MEAN-5(VGG16): \", np.mean(final_accuracy))"
   ]
  },
  {
   "cell_type": "markdown",
   "metadata": {
    "colab_type": "text",
    "id": "PW4UH95RULxe"
   },
   "source": [
    "# Train and Test Accuracy Graph"
   ]
  },
  {
   "cell_type": "code",
   "execution_count": 13,
   "metadata": {
    "colab": {
     "base_uri": "https://localhost:8080/",
     "height": 295
    },
    "colab_type": "code",
    "id": "H6pRH8cWELJ7",
    "outputId": "210bda00-2861-4cf9-9a6f-935ba9b12771"
   },
   "outputs": [
    {
     "data": {
      "image/png": "[encoded data removed]",
      "text/plain": [
       "<Figure size 432x288 with 1 Axes>"
      ]
     },
     "metadata": {
      "needs_background": "light"
     },
     "output_type": "display_data"
    }
   ],
   "source": [
    "from matplotlib import pyplot as plt\n",
    "plt.plot(history.history['acc'])\n",
    "plt.plot(history.history['val_acc'])\n",
    "plt.title('Potato model accuracy')\n",
    "plt.ylabel('accuracy')\n",
    "plt.xlabel('epoch')\n",
    "plt.legend(['train accuracy', 'validation accuracy'], loc='upper left')\n",
    "plt.show()"
   ]
  },
  {
   "cell_type": "markdown",
   "metadata": {
    "colab_type": "text",
    "id": "VCSPp8o_UR11"
   },
   "source": [
    "# Train and Test Loss Graph"
   ]
  },
  {
   "cell_type": "code",
   "execution_count": 14,
   "metadata": {
    "colab": {
     "base_uri": "https://localhost:8080/",
     "height": 295
    },
    "colab_type": "code",
    "id": "EFCPRqYGEa9T",
    "outputId": "a40d0e65-454e-4c63-8e20-c28bbe50357e"
   },
   "outputs": [
    {
     "data": {
      "image/png": "[encoded data removed]",
      "text/plain": [
       "<Figure size 432x288 with 1 Axes>"
      ]
     },
     "metadata": {
      "needs_background": "light"
     },
     "output_type": "display_data"
    }
   ],
   "source": [
    "# summarize history for loss\n",
    "plt.plot(history.history['loss'])\n",
    "plt.title('Potato model loss')\n",
    "plt.ylabel('loss')\n",
    "plt.plot(history.history['val_loss'])\n",
    "plt.xlabel('epoch')\n",
    "plt.legend(['training loss', 'validation loss'], loc='upper left')\n",
    "plt.show()"
   ]
  },
  {
   "cell_type": "markdown",
   "metadata": {
    "colab_type": "text",
    "id": "gpStrY-GUZBu"
   },
   "source": [
    "# Save the KERAS model and check the shape"
   ]
  },
  {
   "cell_type": "code",
   "execution_count": 15,
   "metadata": {
    "colab": {
     "base_uri": "https://localhost:8080/",
     "height": 479
    },
    "colab_type": "code",
    "id": "0DmZ223jNi9o",
    "outputId": "b74d6b0c-e469-4bb2-801b-f66a1911f29b"
   },
   "outputs": [
    {
     "name": "stdout",
     "output_type": "stream",
     "text": [
      "/home/fakrul/Documents/PlantPathology/Model/128/keras/potato.h5\n",
      "WARNING:tensorflow:From /home/fakrul/intel_deep_learning_project/PlantPathology/lib/python3.6/site-packages/tensorflow/python/ops/init_ops.py:97: calling GlorotUniform.__init__ (from tensorflow.python.ops.init_ops) with dtype is deprecated and will be removed in a future version.\n",
      "Instructions for updating:\n",
      "Call initializer instance with the dtype argument instead of passing it to the constructor\n",
      "WARNING:tensorflow:From /home/fakrul/intel_deep_learning_project/PlantPathology/lib/python3.6/site-packages/tensorflow/python/ops/init_ops.py:97: calling Zeros.__init__ (from tensorflow.python.ops.init_ops) with dtype is deprecated and will be removed in a future version.\n",
      "Instructions for updating:\n",
      "Call initializer instance with the dtype argument instead of passing it to the constructor\n",
      "Model: \"sequential\"\n",
      "_________________________________________________________________\n",
      "Layer (type)                 Output Shape              Param #   \n",
      "=================================================================\n",
      "vgg16 (Model)                (None, 4, 4, 512)         14714688  \n",
      "_________________________________________________________________\n",
      "flatten (Flatten)            (None, 8192)              0         \n",
      "_________________________________________________________________\n",
      "dense (Dense)                (None, 512)               4194816   \n",
      "_________________________________________________________________\n",
      "dropout (Dropout)            (None, 512)               0         \n",
      "_________________________________________________________________\n",
      "dense_1 (Dense)              (None, 3)                 1539      \n",
      "=================================================================\n",
      "Total params: 18,911,043\n",
      "Trainable params: 4,196,355\n",
      "Non-trainable params: 14,714,688\n",
      "_________________________________________________________________\n"
     ]
    },
    {
     "data": {
      "text/plain": [
       "(None, 128, 128, 3)"
      ]
     },
     "execution_count": 15,
     "metadata": {},
     "output_type": "execute_result"
    }
   ],
   "source": [
    "print(KERAS_PATH)\n",
    "model.save(KERAS_PATH) \n",
    "# Recreate the exact same model, including its weights and the optimizer\n",
    "saved_model = tf.keras.models.load_model(KERAS_PATH)\n",
    "\n",
    "# Show the model architecture\n",
    "saved_model.summary()\n",
    "saved_model.input_shape"
   ]
  },
  {
   "cell_type": "markdown",
   "metadata": {
    "colab_type": "text",
    "id": "o0HjuOM4S9kn"
   },
   "source": [
    "# Saved Keras Model to Tensorflow Model Conversion"
   ]
  },
  {
   "cell_type": "code",
   "execution_count": 16,
   "metadata": {
    "colab": {
     "base_uri": "https://localhost:8080/",
     "height": 173
    },
    "colab_type": "code",
    "id": "-kZJ6gGKqhg6",
    "outputId": "0479dc76-64ca-428a-b009-b08a9d98be61"
   },
   "outputs": [
    {
     "name": "stdout",
     "output_type": "stream",
     "text": [
      "WARNING:tensorflow:From <ipython-input-16-8e43909f088a>:35: convert_variables_to_constants (from tensorflow.python.framework.graph_util_impl) is deprecated and will be removed in a future version.\n",
      "Instructions for updating:\n",
      "Use `tf.compat.v1.graph_util.convert_variables_to_constants`\n",
      "WARNING:tensorflow:From /home/fakrul/intel_deep_learning_project/PlantPathology/lib/python3.6/site-packages/tensorflow/python/framework/graph_util_impl.py:270: extract_sub_graph (from tensorflow.python.framework.graph_util_impl) is deprecated and will be removed in a future version.\n",
      "Instructions for updating:\n",
      "Use `tf.compat.v1.graph_util.extract_sub_graph`\n",
      "INFO:tensorflow:Froze 86 variables.\n",
      "INFO:tensorflow:Converted 86 variables to const ops.\n"
     ]
    }
   ],
   "source": [
    "import tensorflow as tf\n",
    "import tensorflow.keras.backend as K\n",
    "\n",
    "K.set_learning_phase(0)\n",
    "\n",
    "model_name = 's_potato_tensorflowmodel'\n",
    "\n",
    "def freeze_session(session, keep_var_names=None, output_names=None, clear_devices=True):\n",
    "    \"\"\"\n",
    "    Freezes the state of a session into a pruned computation graph.\n",
    "\n",
    "    Creates a new computation graph where variable nodes are replaced by\n",
    "    constants taking their current value in the session. The new graph will be\n",
    "    pruned so subgraphs that are not necessary to compute the requested\n",
    "    outputs are removed.\n",
    "    @param session The TensorFlow session to be frozen.\n",
    "    @param keep_var_names A list of variable names that should not be frozen,\n",
    "                          or None to freeze all the variables in the graph.\n",
    "    @param output_names Names of the relevant graph outputs.\n",
    "    @param clear_devices Remove the device directives from the graph for better portability.\n",
    "    @return The frozen graph definition.\n",
    "    \"\"\"\n",
    "    from tensorflow.python.framework.graph_util import convert_variables_to_constants\n",
    "    graph = session.graph\n",
    "    with graph.as_default():\n",
    "        freeze_var_names = list(set(v.op.name for v in tf.global_variables()).difference(keep_var_names or []))\n",
    "        output_names = output_names or []\n",
    "        output_names += [v.op.name for v in tf.global_variables()]\n",
    "        # Graph -> GraphDef ProtoBuf\n",
    "        input_graph_def = graph.as_graph_def()\n",
    "        if clear_devices:\n",
    "            for node in input_graph_def.node:\n",
    "                node.device = \"\"\n",
    "        frozen_graph = convert_variables_to_constants(session, input_graph_def,\n",
    "                                                      output_names, freeze_var_names)\n",
    "        return frozen_graph\n",
    "\n",
    "\n",
    "\n",
    "\n",
    "frozen_graph = freeze_session(K.get_session(),\n",
    "                              output_names=[out.op.name for out in saved_model.outputs], \n",
    "                              clear_devices=True)\n",
    "\n",
    "tf.train.write_graph(frozen_graph, TensorFlow_PATH, model_name+\".pb\", as_text=False)\n",
    "\n",
    "output_model_name = model_name + \".pb\"\n",
    "output_model_path = TensorFlow_PATH + output_model_name"
   ]
  },
  {
   "cell_type": "markdown",
   "metadata": {
    "colab_type": "text",
    "id": "nrkU8V-I5v1B"
   },
   "source": [
    "# In memory Keras Model to TensorFlow Model Conversion "
   ]
  },
  {
   "cell_type": "code",
   "execution_count": 17,
   "metadata": {
    "colab": {
     "base_uri": "https://localhost:8080/",
     "height": 51
    },
    "colab_type": "code",
    "id": "YSODC87j6jW8",
    "outputId": "9a64d128-77fb-4e24-ebf4-3da1d384a078"
   },
   "outputs": [
    {
     "name": "stdout",
     "output_type": "stream",
     "text": [
      "INFO:tensorflow:Froze 86 variables.\n",
      "INFO:tensorflow:Converted 86 variables to const ops.\n"
     ]
    }
   ],
   "source": [
    "import tensorflow as tf\n",
    "import tensorflow.keras.backend as K\n",
    "\n",
    "K.set_learning_phase(0)\n",
    "\n",
    "model_name = 'm_potato_tensorflowmodel'\n",
    "\n",
    "def freeze_session(session, keep_var_names=None, output_names=None, clear_devices=True):\n",
    "    \"\"\"\n",
    "    Freezes the state of a session into a pruned computation graph.\n",
    "\n",
    "    Creates a new computation graph where variable nodes are replaced by\n",
    "    constants taking their current value in the session. The new graph will be\n",
    "    pruned so subgraphs that are not necessary to compute the requested\n",
    "    outputs are removed.\n",
    "    @param session The TensorFlow session to be frozen.\n",
    "    @param keep_var_names A list of variable names that should not be frozen,\n",
    "                          or None to freeze all the variables in the graph.\n",
    "    @param output_names Names of the relevant graph outputs.\n",
    "    @param clear_devices Remove the device directives from the graph for better portability.\n",
    "    @return The frozen graph definition.\n",
    "    \"\"\"\n",
    "    from tensorflow.python.framework.graph_util import convert_variables_to_constants\n",
    "    graph = session.graph\n",
    "    with graph.as_default():\n",
    "        freeze_var_names = list(set(v.op.name for v in tf.global_variables()).difference(keep_var_names or []))\n",
    "        output_names = output_names or []\n",
    "        output_names += [v.op.name for v in tf.global_variables()]\n",
    "        # Graph -> GraphDef ProtoBuf\n",
    "        input_graph_def = graph.as_graph_def()\n",
    "        if clear_devices:\n",
    "            for node in input_graph_def.node:\n",
    "                node.device = \"\"\n",
    "        frozen_graph = convert_variables_to_constants(session, input_graph_def,\n",
    "                                                      output_names, freeze_var_names)\n",
    "        return frozen_graph\n",
    "\n",
    "\n",
    "\n",
    "\n",
    "frozen_graph = freeze_session(K.get_session(),\n",
    "                              output_names=[out.op.name for out in model.outputs], \n",
    "                              clear_devices=True)\n",
    "\n",
    "tf.train.write_graph(frozen_graph, TensorFlow_PATH, model_name+\".pb\", as_text=False)\n",
    "\n",
    "output_model_name = model_name + \".pb\"\n",
    "output_model_path = TensorFlow_PATH + output_model_name"
   ]
  },
  {
   "cell_type": "code",
   "execution_count": null,
   "metadata": {},
   "outputs": [],
   "source": []
  }
 ],
 "metadata": {
  "accelerator": "GPU",
  "colab": {
   "collapsed_sections": [],
   "machine_shape": "hm",
   "name": "tsiailab_potato_diseases_solution.ipynb",
   "provenance": []
  },
  "kernelspec": {
   "display_name": "Python 3",
   "language": "python",
   "name": "python3"
  },
  "language_info": {
   "codemirror_mode": {
    "name": "ipython",
    "version": 3
   },
   "file_extension": ".py",
   "mimetype": "text/x-python",
   "name": "python",
   "nbconvert_exporter": "python",
   "pygments_lexer": "ipython3",
   "version": "3.6.9"
  }
 },
 "nbformat": 4,
 "nbformat_minor": 1
}
